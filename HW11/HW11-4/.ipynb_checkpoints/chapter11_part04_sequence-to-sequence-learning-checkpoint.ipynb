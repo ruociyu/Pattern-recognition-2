{
 "cells": [
  {
   "cell_type": "markdown",
   "metadata": {
    "id": "CU8Z8db0v5uI"
   },
   "source": [
    "## Beyond text classification: Sequence-to-sequence learning"
   ]
  },
  {
   "cell_type": "markdown",
   "metadata": {
    "id": "Ug0JDHrvv5uJ"
   },
   "source": [
    "### A machine translation example"
   ]
  },
  {
   "cell_type": "code",
   "execution_count": 1,
   "metadata": {
    "colab": {
     "base_uri": "https://localhost:8080/"
    },
    "executionInfo": {
     "elapsed": 396,
     "status": "ok",
     "timestamp": 1670352230958,
     "user": {
      "displayName": "余若慈",
      "userId": "15335659795739000199"
     },
     "user_tz": -480
    },
    "id": "YjkP_8tSv5uK",
    "outputId": "c94c6506-26e7-4554-ac7b-f4945b3122d6"
   },
   "outputs": [
    {
     "name": "stdout",
     "output_type": "stream",
     "text": [
      "--2022-12-06 18:43:50--  http://storage.googleapis.com/download.tensorflow.org/data/spa-eng.zip\n",
      "Resolving storage.googleapis.com (storage.googleapis.com)... 173.194.192.128, 209.85.145.128, 172.217.219.128, ...\n",
      "Connecting to storage.googleapis.com (storage.googleapis.com)|173.194.192.128|:80... connected.\n",
      "HTTP request sent, awaiting response... 200 OK\n",
      "Length: 2638744 (2.5M) [application/zip]\n",
      "Saving to: ‘spa-eng.zip’\n",
      "\n",
      "\r",
      "spa-eng.zip           0%[                    ]       0  --.-KB/s               \r",
      "spa-eng.zip         100%[===================>]   2.52M  --.-KB/s    in 0.02s   \n",
      "\n",
      "2022-12-06 18:43:50 (131 MB/s) - ‘spa-eng.zip’ saved [2638744/2638744]\n",
      "\n"
     ]
    }
   ],
   "source": [
    "!wget http://storage.googleapis.com/download.tensorflow.org/data/spa-eng.zip\n",
    "!unzip -q spa-eng.zip"
   ]
  },
  {
   "cell_type": "code",
   "execution_count": 2,
   "metadata": {
    "executionInfo": {
     "elapsed": 6,
     "status": "ok",
     "timestamp": 1670352230958,
     "user": {
      "displayName": "余若慈",
      "userId": "15335659795739000199"
     },
     "user_tz": -480
    },
    "id": "LfEKiYM5v5uL"
   },
   "outputs": [],
   "source": [
    "text_file = \"spa-eng/spa.txt\"\n",
    "with open(text_file) as f:\n",
    "    lines = f.read().split(\"\\n\")[:-1]\n",
    "text_pairs = []\n",
    "for line in lines:\n",
    "    english, spanish = line.split(\"\\t\")\n",
    "    spanish = \"[start] \" + spanish + \" [end]\"\n",
    "    text_pairs.append((english, spanish))"
   ]
  },
  {
   "cell_type": "code",
   "execution_count": 3,
   "metadata": {
    "colab": {
     "base_uri": "https://localhost:8080/"
    },
    "executionInfo": {
     "elapsed": 454,
     "status": "ok",
     "timestamp": 1670352231407,
     "user": {
      "displayName": "余若慈",
      "userId": "15335659795739000199"
     },
     "user_tz": -480
    },
    "id": "veTMNwc3v5uM",
    "outputId": "3755b00e-4cf7-4a44-b6d4-5045fcc82fa4"
   },
   "outputs": [
    {
     "name": "stdout",
     "output_type": "stream",
     "text": [
      "('Come on, try again.', '[start] Vamos, inténtalo otra vez. [end]')\n"
     ]
    }
   ],
   "source": [
    "import random\n",
    "print(random.choice(text_pairs))"
   ]
  },
  {
   "cell_type": "code",
   "execution_count": 4,
   "metadata": {
    "executionInfo": {
     "elapsed": 8,
     "status": "ok",
     "timestamp": 1670352231408,
     "user": {
      "displayName": "余若慈",
      "userId": "15335659795739000199"
     },
     "user_tz": -480
    },
    "id": "rQnmh3iLv5uM"
   },
   "outputs": [],
   "source": [
    "import random\n",
    "random.shuffle(text_pairs)\n",
    "num_val_samples = int(0.15 * len(text_pairs))\n",
    "num_train_samples = len(text_pairs) - 2 * num_val_samples\n",
    "train_pairs = text_pairs[:num_train_samples]\n",
    "val_pairs = text_pairs[num_train_samples:num_train_samples + num_val_samples]\n",
    "test_pairs = text_pairs[num_train_samples + num_val_samples:]"
   ]
  },
  {
   "cell_type": "markdown",
   "metadata": {
    "id": "Ksjb5HPav5uN"
   },
   "source": [
    "**Vectorizing the English and Spanish text pairs**"
   ]
  },
  {
   "cell_type": "code",
   "execution_count": 6,
   "metadata": {
    "executionInfo": {
     "elapsed": 14386,
     "status": "ok",
     "timestamp": 1670352285171,
     "user": {
      "displayName": "余若慈",
      "userId": "15335659795739000199"
     },
     "user_tz": -480
    },
    "id": "Jo1HCerBv5uO"
   },
   "outputs": [],
   "source": [
    "import tensorflow as tf\n",
    "import string\n",
    "import re\n",
    "from tensorflow.keras import layers\n",
    "\n",
    "strip_chars = string.punctuation + \"¿\"\n",
    "strip_chars = strip_chars.replace(\"[\", \"\")\n",
    "strip_chars = strip_chars.replace(\"]\", \"\")\n",
    "\n",
    "def custom_standardization(input_string):\n",
    "    lowercase = tf.strings.lower(input_string)\n",
    "    return tf.strings.regex_replace(\n",
    "        lowercase, f\"[{re.escape(strip_chars)}]\", \"\")\n",
    "\n",
    "vocab_size = 15000\n",
    "sequence_length = 20\n",
    "\n",
    "source_vectorization = layers.TextVectorization(\n",
    "    max_tokens=vocab_size,\n",
    "    output_mode=\"int\",\n",
    "    output_sequence_length=sequence_length,\n",
    ")\n",
    "target_vectorization = layers.TextVectorization(\n",
    "    max_tokens=vocab_size,\n",
    "    output_mode=\"int\",\n",
    "    output_sequence_length=sequence_length + 1,\n",
    "    standardize=custom_standardization,\n",
    ")\n",
    "train_english_texts = [pair[0] for pair in train_pairs]\n",
    "train_spanish_texts = [pair[1] for pair in train_pairs]\n",
    "source_vectorization.adapt(train_english_texts)\n",
    "target_vectorization.adapt(train_spanish_texts)"
   ]
  },
  {
   "cell_type": "markdown",
   "metadata": {
    "id": "1Mc8Uptpv5uP"
   },
   "source": [
    "**Preparing datasets for the translation task**"
   ]
  },
  {
   "cell_type": "code",
   "execution_count": 7,
   "metadata": {
    "executionInfo": {
     "elapsed": 1576,
     "status": "ok",
     "timestamp": 1670352305439,
     "user": {
      "displayName": "余若慈",
      "userId": "15335659795739000199"
     },
     "user_tz": -480
    },
    "id": "DVMoT-3hv5uQ"
   },
   "outputs": [],
   "source": [
    "batch_size = 64\n",
    "\n",
    "def format_dataset(eng, spa):\n",
    "    eng = source_vectorization(eng)\n",
    "    spa = target_vectorization(spa)\n",
    "    return ({\n",
    "        \"english\": eng,\n",
    "        \"spanish\": spa[:, :-1],\n",
    "    }, spa[:, 1:])\n",
    "\n",
    "def make_dataset(pairs):\n",
    "    eng_texts, spa_texts = zip(*pairs)\n",
    "    eng_texts = list(eng_texts)\n",
    "    spa_texts = list(spa_texts)\n",
    "    dataset = tf.data.Dataset.from_tensor_slices((eng_texts, spa_texts))\n",
    "    dataset = dataset.batch(batch_size)\n",
    "    dataset = dataset.map(format_dataset, num_parallel_calls=4)\n",
    "    return dataset.shuffle(2048).prefetch(16).cache()\n",
    "\n",
    "train_ds = make_dataset(train_pairs)\n",
    "val_ds = make_dataset(val_pairs)"
   ]
  },
  {
   "cell_type": "code",
   "execution_count": 8,
   "metadata": {
    "colab": {
     "base_uri": "https://localhost:8080/"
    },
    "executionInfo": {
     "elapsed": 371,
     "status": "ok",
     "timestamp": 1670352305805,
     "user": {
      "displayName": "余若慈",
      "userId": "15335659795739000199"
     },
     "user_tz": -480
    },
    "id": "WdtuP7rGv5uR",
    "outputId": "69e97a90-5caa-4646-a495-dfb5f0665b57"
   },
   "outputs": [
    {
     "name": "stdout",
     "output_type": "stream",
     "text": [
      "inputs['english'].shape: (64, 20)\n",
      "inputs['spanish'].shape: (64, 20)\n",
      "targets.shape: (64, 20)\n"
     ]
    }
   ],
   "source": [
    "for inputs, targets in train_ds.take(1):\n",
    "    print(f\"inputs['english'].shape: {inputs['english'].shape}\")\n",
    "    print(f\"inputs['spanish'].shape: {inputs['spanish'].shape}\")\n",
    "    print(f\"targets.shape: {targets.shape}\")"
   ]
  },
  {
   "cell_type": "markdown",
   "metadata": {
    "id": "rQTuyhYlv5uR"
   },
   "source": [
    "### Sequence-to-sequence learning with RNNs"
   ]
  },
  {
   "cell_type": "markdown",
   "metadata": {
    "id": "Dju-BSwQv5uR"
   },
   "source": [
    "**GRU-based encoder**"
   ]
  },
  {
   "cell_type": "code",
   "execution_count": 9,
   "metadata": {
    "executionInfo": {
     "elapsed": 3767,
     "status": "ok",
     "timestamp": 1670352309567,
     "user": {
      "displayName": "余若慈",
      "userId": "15335659795739000199"
     },
     "user_tz": -480
    },
    "id": "jxsrVZFkv5uS"
   },
   "outputs": [],
   "source": [
    "from tensorflow import keras\n",
    "from tensorflow.keras import layers\n",
    "\n",
    "embed_dim = 256\n",
    "latent_dim = 1024\n",
    "\n",
    "source = keras.Input(shape=(None,), dtype=\"int64\", name=\"english\")\n",
    "x = layers.Embedding(vocab_size, embed_dim, mask_zero=True)(source)\n",
    "encoded_source = layers.Bidirectional(\n",
    "    layers.GRU(latent_dim), merge_mode=\"sum\")(x)"
   ]
  },
  {
   "cell_type": "markdown",
   "metadata": {
    "id": "259uD09wv5uS"
   },
   "source": [
    "**GRU-based decoder and the end-to-end model**"
   ]
  },
  {
   "cell_type": "code",
   "execution_count": 10,
   "metadata": {
    "executionInfo": {
     "elapsed": 965,
     "status": "ok",
     "timestamp": 1670352310511,
     "user": {
      "displayName": "余若慈",
      "userId": "15335659795739000199"
     },
     "user_tz": -480
    },
    "id": "eseLpZgov5uS"
   },
   "outputs": [],
   "source": [
    "past_target = keras.Input(shape=(None,), dtype=\"int64\", name=\"spanish\")\n",
    "x = layers.Embedding(vocab_size, embed_dim, mask_zero=True)(past_target)\n",
    "decoder_gru = layers.GRU(latent_dim, return_sequences=True)\n",
    "x = decoder_gru(x, initial_state=encoded_source)\n",
    "x = layers.Dropout(0.5)(x)\n",
    "target_next_step = layers.Dense(vocab_size, activation=\"softmax\")(x)\n",
    "seq2seq_rnn = keras.Model([source, past_target], target_next_step)"
   ]
  },
  {
   "cell_type": "markdown",
   "metadata": {
    "id": "FCeFOP_dv5uS"
   },
   "source": [
    "**Training our recurrent sequence-to-sequence model**"
   ]
  },
  {
   "cell_type": "code",
   "execution_count": 11,
   "metadata": {
    "colab": {
     "base_uri": "https://localhost:8080/"
    },
    "executionInfo": {
     "elapsed": 1879273,
     "status": "ok",
     "timestamp": 1670354189777,
     "user": {
      "displayName": "余若慈",
      "userId": "15335659795739000199"
     },
     "user_tz": -480
    },
    "id": "w2fORdSVv5uT",
    "outputId": "2c3955ed-a2d0-4dd0-c9f2-e3f8447d1e3f"
   },
   "outputs": [
    {
     "name": "stdout",
     "output_type": "stream",
     "text": [
      "Epoch 1/15\n",
      "1302/1302 [==============================] - 140s 92ms/step - loss: 1.6365 - accuracy: 0.4168 - val_loss: 1.3079 - val_accuracy: 0.5070\n",
      "Epoch 2/15\n",
      "1302/1302 [==============================] - 116s 89ms/step - loss: 1.3119 - accuracy: 0.5286 - val_loss: 1.1455 - val_accuracy: 0.5694\n",
      "Epoch 3/15\n",
      "1302/1302 [==============================] - 116s 89ms/step - loss: 1.1686 - accuracy: 0.5789 - val_loss: 1.0679 - val_accuracy: 0.6008\n",
      "Epoch 4/15\n",
      "1302/1302 [==============================] - 116s 89ms/step - loss: 1.0789 - accuracy: 0.6106 - val_loss: 1.0350 - val_accuracy: 0.6184\n",
      "Epoch 5/15\n",
      "1302/1302 [==============================] - 116s 89ms/step - loss: 1.0314 - accuracy: 0.6347 - val_loss: 1.0160 - val_accuracy: 0.6304\n",
      "Epoch 6/15\n",
      "1302/1302 [==============================] - 116s 89ms/step - loss: 1.0014 - accuracy: 0.6527 - val_loss: 1.0108 - val_accuracy: 0.6362\n",
      "Epoch 7/15\n",
      "1302/1302 [==============================] - 115s 89ms/step - loss: 0.9815 - accuracy: 0.6666 - val_loss: 1.0140 - val_accuracy: 0.6381\n",
      "Epoch 8/15\n",
      "1302/1302 [==============================] - 116s 89ms/step - loss: 0.9678 - accuracy: 0.6769 - val_loss: 1.0142 - val_accuracy: 0.6406\n",
      "Epoch 9/15\n",
      "1302/1302 [==============================] - 115s 88ms/step - loss: 0.9581 - accuracy: 0.6848 - val_loss: 1.0158 - val_accuracy: 0.6435\n",
      "Epoch 10/15\n",
      "1302/1302 [==============================] - 116s 89ms/step - loss: 0.9511 - accuracy: 0.6904 - val_loss: 1.0196 - val_accuracy: 0.6435\n",
      "Epoch 11/15\n",
      "1302/1302 [==============================] - 115s 88ms/step - loss: 0.9450 - accuracy: 0.6946 - val_loss: 1.0271 - val_accuracy: 0.6419\n",
      "Epoch 12/15\n",
      "1302/1302 [==============================] - 115s 89ms/step - loss: 0.9412 - accuracy: 0.6979 - val_loss: 1.0292 - val_accuracy: 0.6430\n",
      "Epoch 13/15\n",
      "1302/1302 [==============================] - 115s 88ms/step - loss: 0.9385 - accuracy: 0.7000 - val_loss: 1.0318 - val_accuracy: 0.6434\n",
      "Epoch 14/15\n",
      "1302/1302 [==============================] - 115s 88ms/step - loss: 0.9368 - accuracy: 0.7015 - val_loss: 1.0316 - val_accuracy: 0.6437\n",
      "Epoch 15/15\n",
      "1302/1302 [==============================] - 116s 89ms/step - loss: 0.9376 - accuracy: 0.7016 - val_loss: 1.0323 - val_accuracy: 0.6450\n"
     ]
    },
    {
     "data": {
      "text/plain": [
       "<keras.callbacks.History at 0x7fdf30112850>"
      ]
     },
     "execution_count": 11,
     "metadata": {},
     "output_type": "execute_result"
    }
   ],
   "source": [
    "seq2seq_rnn.compile(\n",
    "    optimizer=\"rmsprop\",\n",
    "    loss=\"sparse_categorical_crossentropy\",\n",
    "    metrics=[\"accuracy\"])\n",
    "seq2seq_rnn.fit(train_ds, epochs=15, validation_data=val_ds)"
   ]
  },
  {
   "cell_type": "markdown",
   "metadata": {
    "id": "Vap3HVj5v5uT"
   },
   "source": [
    "**Translating new sentences with our RNN encoder and decoder**"
   ]
  },
  {
   "cell_type": "code",
   "execution_count": 12,
   "metadata": {
    "colab": {
     "base_uri": "https://localhost:8080/"
    },
    "executionInfo": {
     "elapsed": 11827,
     "status": "ok",
     "timestamp": 1670354201595,
     "user": {
      "displayName": "余若慈",
      "userId": "15335659795739000199"
     },
     "user_tz": -480
    },
    "id": "-Brf4K3Wv5uT",
    "outputId": "a8b97fc1-7069-4a40-8b04-234e9931111f"
   },
   "outputs": [
    {
     "name": "stdout",
     "output_type": "stream",
     "text": [
      "-\n",
      "I was told I couldn't do that.\n",
      "1/1 [==============================] - 3s 3s/step\n",
      "1/1 [==============================] - 0s 21ms/step\n",
      "1/1 [==============================] - 0s 20ms/step\n",
      "1/1 [==============================] - 0s 21ms/step\n",
      "1/1 [==============================] - 0s 20ms/step\n",
      "1/1 [==============================] - 0s 22ms/step\n",
      "1/1 [==============================] - 0s 21ms/step\n",
      "1/1 [==============================] - 0s 21ms/step\n",
      "1/1 [==============================] - 0s 22ms/step\n",
      "[start] me dije que no lo que hacer eso [end]\n",
      "-\n",
      "I know you were expecting Tom to be here.\n",
      "1/1 [==============================] - 0s 21ms/step\n",
      "1/1 [==============================] - 0s 20ms/step\n",
      "1/1 [==============================] - 0s 22ms/step\n",
      "1/1 [==============================] - 0s 21ms/step\n",
      "1/1 [==============================] - 0s 25ms/step\n",
      "1/1 [==============================] - 0s 21ms/step\n",
      "1/1 [==============================] - 0s 21ms/step\n",
      "1/1 [==============================] - 0s 23ms/step\n",
      "1/1 [==============================] - 0s 25ms/step\n",
      "[start] sé que tom [UNK] aquí a estar aquí [end]\n",
      "-\n",
      "Tell me what you need.\n",
      "1/1 [==============================] - 0s 20ms/step\n",
      "1/1 [==============================] - 0s 22ms/step\n",
      "1/1 [==============================] - 0s 22ms/step\n",
      "1/1 [==============================] - 0s 24ms/step\n",
      "1/1 [==============================] - 0s 25ms/step\n",
      "[start] dime lo que necesito [end]\n",
      "-\n",
      "Peel the potatoes and carrots.\n",
      "1/1 [==============================] - 0s 21ms/step\n",
      "1/1 [==============================] - 0s 21ms/step\n",
      "1/1 [==============================] - 0s 22ms/step\n",
      "1/1 [==============================] - 0s 20ms/step\n",
      "1/1 [==============================] - 0s 22ms/step\n",
      "1/1 [==============================] - 0s 19ms/step\n",
      "1/1 [==============================] - 0s 21ms/step\n",
      "[start] [UNK] las [UNK] y el [UNK] [end]\n",
      "-\n",
      "I guess it won't matter.\n",
      "1/1 [==============================] - 0s 21ms/step\n",
      "1/1 [==============================] - 0s 20ms/step\n",
      "1/1 [==============================] - 0s 22ms/step\n",
      "1/1 [==============================] - 0s 24ms/step\n",
      "1/1 [==============================] - 0s 22ms/step\n",
      "1/1 [==============================] - 0s 21ms/step\n",
      "[start] supongo que no lo [UNK] [end]\n",
      "-\n",
      "Tom will find out sooner or later.\n",
      "1/1 [==============================] - 0s 21ms/step\n",
      "1/1 [==============================] - 0s 20ms/step\n",
      "1/1 [==============================] - 0s 21ms/step\n",
      "1/1 [==============================] - 0s 22ms/step\n",
      "1/1 [==============================] - 0s 20ms/step\n",
      "1/1 [==============================] - 0s 21ms/step\n",
      "[start] tom lo [UNK] o temprano [end]\n",
      "-\n",
      "As soon as he saw me, he ran away.\n",
      "1/1 [==============================] - 0s 22ms/step\n",
      "1/1 [==============================] - 0s 21ms/step\n",
      "1/1 [==============================] - 0s 24ms/step\n",
      "1/1 [==============================] - 0s 22ms/step\n",
      "1/1 [==============================] - 0s 22ms/step\n",
      "1/1 [==============================] - 0s 21ms/step\n",
      "1/1 [==============================] - 0s 22ms/step\n",
      "1/1 [==============================] - 0s 23ms/step\n",
      "1/1 [==============================] - 0s 28ms/step\n",
      "[start] en cuanto lo vio él me había pasado [end]\n",
      "-\n",
      "Tom stabbed Mary with a hunting knife.\n",
      "1/1 [==============================] - 0s 24ms/step\n",
      "1/1 [==============================] - 0s 22ms/step\n",
      "1/1 [==============================] - 0s 22ms/step\n",
      "1/1 [==============================] - 0s 21ms/step\n",
      "1/1 [==============================] - 0s 21ms/step\n",
      "1/1 [==============================] - 0s 23ms/step\n",
      "1/1 [==============================] - 0s 21ms/step\n",
      "1/1 [==============================] - 0s 22ms/step\n",
      "1/1 [==============================] - 0s 30ms/step\n",
      "1/1 [==============================] - 0s 24ms/step\n",
      "1/1 [==============================] - 0s 25ms/step\n",
      "1/1 [==============================] - 0s 24ms/step\n",
      "1/1 [==============================] - 0s 28ms/step\n",
      "[start] tom le con mary a un poco de un es de john [end]\n",
      "-\n",
      "I can't stop thinking about Tom.\n",
      "1/1 [==============================] - 0s 22ms/step\n",
      "1/1 [==============================] - 0s 20ms/step\n",
      "1/1 [==============================] - 0s 23ms/step\n",
      "1/1 [==============================] - 0s 25ms/step\n",
      "1/1 [==============================] - 0s 21ms/step\n",
      "1/1 [==============================] - 0s 20ms/step\n",
      "1/1 [==============================] - 0s 22ms/step\n",
      "1/1 [==============================] - 0s 22ms/step\n",
      "[start] no puedo dejar de hablar sobre tom [end]\n",
      "-\n",
      "What's happened?\n",
      "1/1 [==============================] - 0s 24ms/step\n",
      "1/1 [==============================] - 0s 19ms/step\n",
      "1/1 [==============================] - 0s 22ms/step\n",
      "[start] qué pasó [end]\n",
      "-\n",
      "Tom was playing the trumpet.\n",
      "1/1 [==============================] - 0s 34ms/step\n",
      "1/1 [==============================] - 0s 24ms/step\n",
      "1/1 [==============================] - 0s 23ms/step\n",
      "1/1 [==============================] - 0s 22ms/step\n",
      "1/1 [==============================] - 0s 22ms/step\n",
      "1/1 [==============================] - 0s 25ms/step\n",
      "[start] tom estaba jugando al golf [end]\n",
      "-\n",
      "Tom certainly is an old man.\n",
      "1/1 [==============================] - 0s 22ms/step\n",
      "1/1 [==============================] - 0s 29ms/step\n",
      "1/1 [==============================] - 0s 23ms/step\n",
      "1/1 [==============================] - 0s 22ms/step\n",
      "1/1 [==============================] - 0s 22ms/step\n",
      "1/1 [==============================] - 0s 19ms/step\n",
      "1/1 [==============================] - 0s 20ms/step\n",
      "1/1 [==============================] - 0s 26ms/step\n",
      "[start] tomás es un hombre de un hombre [end]\n",
      "-\n",
      "I don't know, nor do I care.\n",
      "1/1 [==============================] - 0s 22ms/step\n",
      "1/1 [==============================] - 0s 23ms/step\n",
      "1/1 [==============================] - 0s 21ms/step\n",
      "1/1 [==============================] - 0s 20ms/step\n",
      "1/1 [==============================] - 0s 21ms/step\n",
      "1/1 [==============================] - 0s 23ms/step\n",
      "1/1 [==============================] - 0s 25ms/step\n",
      "[start] no sé ni siquiera me tengo [end]\n",
      "-\n",
      "Father takes a walk every day.\n",
      "1/1 [==============================] - 0s 22ms/step\n",
      "1/1 [==============================] - 0s 22ms/step\n",
      "1/1 [==============================] - 0s 20ms/step\n",
      "1/1 [==============================] - 0s 25ms/step\n",
      "1/1 [==============================] - 0s 26ms/step\n",
      "1/1 [==============================] - 0s 23ms/step\n",
      "1/1 [==============================] - 0s 25ms/step\n",
      "1/1 [==============================] - 0s 22ms/step\n",
      "1/1 [==============================] - 0s 25ms/step\n",
      "1/1 [==============================] - 0s 25ms/step\n",
      "[start] mi padre se va a comer todos los días [end]\n",
      "-\n",
      "He goes to a school for the deaf.\n",
      "1/1 [==============================] - 0s 22ms/step\n",
      "1/1 [==============================] - 0s 22ms/step\n",
      "1/1 [==============================] - 0s 20ms/step\n",
      "1/1 [==============================] - 0s 22ms/step\n",
      "1/1 [==============================] - 0s 30ms/step\n",
      "1/1 [==============================] - 0s 24ms/step\n",
      "1/1 [==============================] - 0s 24ms/step\n",
      "1/1 [==============================] - 0s 22ms/step\n",
      "1/1 [==============================] - 0s 21ms/step\n",
      "[start] Él va a la escuela en el [UNK] [end]\n",
      "-\n",
      "I was impressed.\n",
      "1/1 [==============================] - 0s 23ms/step\n",
      "1/1 [==============================] - 0s 21ms/step\n",
      "1/1 [==============================] - 0s 21ms/step\n",
      "[start] estaba [UNK] [end]\n",
      "-\n",
      "Tom yelled at Mary.\n",
      "1/1 [==============================] - 0s 21ms/step\n",
      "1/1 [==============================] - 0s 19ms/step\n",
      "1/1 [==============================] - 0s 24ms/step\n",
      "1/1 [==============================] - 0s 22ms/step\n",
      "1/1 [==============================] - 0s 21ms/step\n",
      "1/1 [==============================] - 0s 21ms/step\n",
      "1/1 [==============================] - 0s 22ms/step\n",
      "[start] tom no le [UNK] a mary [end]\n",
      "-\n",
      "You're a freak.\n",
      "1/1 [==============================] - 0s 18ms/step\n",
      "1/1 [==============================] - 0s 20ms/step\n",
      "1/1 [==============================] - 0s 19ms/step\n",
      "1/1 [==============================] - 0s 20ms/step\n",
      "[start] sos una [UNK] [end]\n",
      "-\n",
      "The police are investigating the accident.\n",
      "1/1 [==============================] - 0s 20ms/step\n",
      "1/1 [==============================] - 0s 23ms/step\n",
      "1/1 [==============================] - 0s 21ms/step\n",
      "1/1 [==============================] - 0s 28ms/step\n",
      "1/1 [==============================] - 0s 23ms/step\n",
      "1/1 [==============================] - 0s 22ms/step\n",
      "[start] la policía está el accidente [end]\n",
      "-\n",
      "I was talking to Tom the other day.\n",
      "1/1 [==============================] - 0s 20ms/step\n",
      "1/1 [==============================] - 0s 22ms/step\n",
      "1/1 [==============================] - 0s 20ms/step\n",
      "1/1 [==============================] - 0s 19ms/step\n",
      "1/1 [==============================] - 0s 21ms/step\n",
      "1/1 [==============================] - 0s 20ms/step\n",
      "1/1 [==============================] - 0s 24ms/step\n",
      "[start] estaba con tom el otro día [end]\n"
     ]
    }
   ],
   "source": [
    "import numpy as np\n",
    "spa_vocab = target_vectorization.get_vocabulary()\n",
    "spa_index_lookup = dict(zip(range(len(spa_vocab)), spa_vocab))\n",
    "max_decoded_sentence_length = 20\n",
    "\n",
    "def decode_sequence(input_sentence):\n",
    "    tokenized_input_sentence = source_vectorization([input_sentence])\n",
    "    decoded_sentence = \"[start]\"\n",
    "    for i in range(max_decoded_sentence_length):\n",
    "        tokenized_target_sentence = target_vectorization([decoded_sentence])\n",
    "        next_token_predictions = seq2seq_rnn.predict(\n",
    "            [tokenized_input_sentence, tokenized_target_sentence])\n",
    "        sampled_token_index = np.argmax(next_token_predictions[0, i, :])\n",
    "        sampled_token = spa_index_lookup[sampled_token_index]\n",
    "        decoded_sentence += \" \" + sampled_token\n",
    "        if sampled_token == \"[end]\":\n",
    "            break\n",
    "    return decoded_sentence\n",
    "\n",
    "test_eng_texts = [pair[0] for pair in test_pairs]\n",
    "for _ in range(20):\n",
    "    input_sentence = random.choice(test_eng_texts)\n",
    "    print(\"-\")\n",
    "    print(input_sentence)\n",
    "    print(decode_sequence(input_sentence))"
   ]
  },
  {
   "cell_type": "markdown",
   "metadata": {
    "id": "sQdZUOMrv5uT"
   },
   "source": [
    "### Sequence-to-sequence learning with Transformer"
   ]
  },
  {
   "cell_type": "markdown",
   "metadata": {
    "id": "RbagJyjY3uW4"
   },
   "source": [
    "#### The Transformer encoder"
   ]
  },
  {
   "cell_type": "markdown",
   "metadata": {
    "id": "4iHP_UI0313G"
   },
   "source": [
    "**The `TransformerEncoder`**"
   ]
  },
  {
   "cell_type": "code",
   "execution_count": 16,
   "metadata": {
    "executionInfo": {
     "elapsed": 1104,
     "status": "ok",
     "timestamp": 1670354305906,
     "user": {
      "displayName": "余若慈",
      "userId": "15335659795739000199"
     },
     "user_tz": -480
    },
    "id": "6IHE7Xk_34cD"
   },
   "outputs": [],
   "source": [
    "class TransformerEncoder(layers.Layer):\n",
    "    def __init__(self, embed_dim, dense_dim, num_heads, **kwargs):\n",
    "        super().__init__(**kwargs)\n",
    "        self.embed_dim = embed_dim\n",
    "        self.dense_dim = dense_dim\n",
    "        self.num_heads = num_heads\n",
    "        self.attention = layers.MultiHeadAttention(\n",
    "            num_heads=num_heads, key_dim=embed_dim\n",
    "        )\n",
    "        self.dense_proj = keras.Sequential(\n",
    "            [layers.Dense(dense_dim, activation=\"relu\"), layers.Dense(embed_dim),]\n",
    "        )\n",
    "        self.layernorm_1 = layers.LayerNormalization()\n",
    "        self.layernorm_2 = layers.LayerNormalization()\n",
    "        self.supports_masking = True\n",
    "\n",
    "    def call(self, inputs, mask):\n",
    "        if mask is not None:\n",
    "            padding_mask = tf.cast(mask[:, tf.newaxis, tf.newaxis, :], dtype=\"int32\")\n",
    "        attention_output = self.attention(\n",
    "            query=inputs, value=inputs, key=inputs, attention_mask=padding_mask\n",
    "        )\n",
    "        proj_input = self.layernorm_1(inputs + attention_output)\n",
    "        proj_output = self.dense_proj(proj_input)\n",
    "        return self.layernorm_2(proj_input + proj_output)"
   ]
  },
  {
   "cell_type": "markdown",
   "metadata": {
    "id": "_-PyEkxAv5uU"
   },
   "source": [
    "#### The Transformer decoder"
   ]
  },
  {
   "cell_type": "markdown",
   "metadata": {
    "id": "x97a0wmmv5uU"
   },
   "source": [
    "**The `TransformerDecoder`**"
   ]
  },
  {
   "cell_type": "code",
   "execution_count": 13,
   "metadata": {
    "executionInfo": {
     "elapsed": 97,
     "status": "ok",
     "timestamp": 1670354201596,
     "user": {
      "displayName": "余若慈",
      "userId": "15335659795739000199"
     },
     "user_tz": -480
    },
    "id": "6qgR0Iqfv5uU"
   },
   "outputs": [],
   "source": [
    "class TransformerDecoder(layers.Layer):\n",
    "    def __init__(self, embed_dim, dense_dim, num_heads, **kwargs):\n",
    "        super().__init__(**kwargs)\n",
    "        self.embed_dim = embed_dim\n",
    "        self.dense_dim = dense_dim\n",
    "        self.num_heads = num_heads\n",
    "        self.attention_1 = layers.MultiHeadAttention(\n",
    "            num_heads=num_heads, key_dim=embed_dim)\n",
    "        self.attention_2 = layers.MultiHeadAttention(\n",
    "            num_heads=num_heads, key_dim=embed_dim)\n",
    "        self.dense_proj = keras.Sequential(\n",
    "            [layers.Dense(dense_dim, activation=\"relu\"),\n",
    "             layers.Dense(embed_dim),]\n",
    "        )\n",
    "        self.layernorm_1 = layers.LayerNormalization()\n",
    "        self.layernorm_2 = layers.LayerNormalization()\n",
    "        self.layernorm_3 = layers.LayerNormalization()\n",
    "        self.supports_masking = True\n",
    "\n",
    "    def get_config(self):\n",
    "        config = super().get_config()\n",
    "        config.update({\n",
    "            \"embed_dim\": self.embed_dim,\n",
    "            \"num_heads\": self.num_heads,\n",
    "            \"dense_dim\": self.dense_dim,\n",
    "        })\n",
    "        return config\n",
    "\n",
    "    def get_causal_attention_mask(self, inputs):\n",
    "        input_shape = tf.shape(inputs)\n",
    "        batch_size, sequence_length = input_shape[0], input_shape[1]\n",
    "        i = tf.range(sequence_length)[:, tf.newaxis]\n",
    "        j = tf.range(sequence_length)\n",
    "        mask = tf.cast(i >= j, dtype=\"int32\")\n",
    "        mask = tf.reshape(mask, (1, input_shape[1], input_shape[1]))\n",
    "        mult = tf.concat(\n",
    "            [tf.expand_dims(batch_size, -1),\n",
    "             tf.constant([1, 1], dtype=tf.int32)], axis=0)\n",
    "        return tf.tile(mask, mult)\n",
    "\n",
    "    def call(self, inputs, encoder_outputs, mask=None):\n",
    "        causal_mask = self.get_causal_attention_mask(inputs)\n",
    "        if mask is not None:\n",
    "            padding_mask = tf.cast(\n",
    "                mask[:, tf.newaxis, :], dtype=\"int32\")\n",
    "            padding_mask = tf.minimum(padding_mask, causal_mask)\n",
    "        attention_output_1 = self.attention_1(\n",
    "            query=inputs,\n",
    "            value=inputs,\n",
    "            key=inputs,\n",
    "            attention_mask=causal_mask)\n",
    "        attention_output_1 = self.layernorm_1(inputs + attention_output_1)\n",
    "        attention_output_2 = self.attention_2(\n",
    "            query=attention_output_1,\n",
    "            value=encoder_outputs,\n",
    "            key=encoder_outputs,\n",
    "            attention_mask=padding_mask,\n",
    "        )\n",
    "        attention_output_2 = self.layernorm_2(\n",
    "            attention_output_1 + attention_output_2)\n",
    "        proj_output = self.dense_proj(attention_output_2)\n",
    "        return self.layernorm_3(attention_output_2 + proj_output)"
   ]
  },
  {
   "cell_type": "markdown",
   "metadata": {
    "id": "Y8MbTt4Av5uV"
   },
   "source": [
    "#### Putting it all together: A Transformer for machine translation"
   ]
  },
  {
   "cell_type": "markdown",
   "metadata": {
    "id": "cv0vg4khv5uV"
   },
   "source": [
    "**PositionalEmbedding layer**"
   ]
  },
  {
   "cell_type": "code",
   "execution_count": 14,
   "metadata": {
    "executionInfo": {
     "elapsed": 95,
     "status": "ok",
     "timestamp": 1670354201598,
     "user": {
      "displayName": "余若慈",
      "userId": "15335659795739000199"
     },
     "user_tz": -480
    },
    "id": "YZgpbZyYv5uV"
   },
   "outputs": [],
   "source": [
    "class PositionalEmbedding(layers.Layer):\n",
    "    def __init__(self, sequence_length, input_dim, output_dim, **kwargs):\n",
    "        super().__init__(**kwargs)\n",
    "        self.token_embeddings = layers.Embedding(\n",
    "            input_dim=input_dim, output_dim=output_dim)\n",
    "        self.position_embeddings = layers.Embedding(\n",
    "            input_dim=sequence_length, output_dim=output_dim)\n",
    "        self.sequence_length = sequence_length\n",
    "        self.input_dim = input_dim\n",
    "        self.output_dim = output_dim\n",
    "\n",
    "    def call(self, inputs):\n",
    "        length = tf.shape(inputs)[-1]\n",
    "        positions = tf.range(start=0, limit=length, delta=1)\n",
    "        embedded_tokens = self.token_embeddings(inputs)\n",
    "        embedded_positions = self.position_embeddings(positions)\n",
    "        return embedded_tokens + embedded_positions\n",
    "\n",
    "    def compute_mask(self, inputs, mask=None):\n",
    "        return tf.math.not_equal(inputs, 0)\n",
    "\n",
    "    def get_config(self):\n",
    "        config = super(PositionalEmbedding, self).get_config()\n",
    "        config.update({\n",
    "            \"output_dim\": self.output_dim,\n",
    "            \"sequence_length\": self.sequence_length,\n",
    "            \"input_dim\": self.input_dim,\n",
    "        })\n",
    "        return config"
   ]
  },
  {
   "cell_type": "markdown",
   "metadata": {
    "id": "YqcpV-6Ev5uV"
   },
   "source": [
    "**End-to-end Transformer**"
   ]
  },
  {
   "cell_type": "code",
   "execution_count": 17,
   "metadata": {
    "executionInfo": {
     "elapsed": 850,
     "status": "ok",
     "timestamp": 1670354313306,
     "user": {
      "displayName": "余若慈",
      "userId": "15335659795739000199"
     },
     "user_tz": -480
    },
    "id": "C2aMZiosv5uV"
   },
   "outputs": [],
   "source": [
    "embed_dim = 256\n",
    "dense_dim = 2048\n",
    "num_heads = 8\n",
    "\n",
    "encoder_inputs = keras.Input(shape=(None,), dtype=\"int64\", name=\"english\")\n",
    "x = PositionalEmbedding(sequence_length, vocab_size, embed_dim)(encoder_inputs)\n",
    "encoder_outputs = TransformerEncoder(embed_dim, dense_dim, num_heads)(x)\n",
    "\n",
    "decoder_inputs = keras.Input(shape=(None,), dtype=\"int64\", name=\"spanish\")\n",
    "x = PositionalEmbedding(sequence_length, vocab_size, embed_dim)(decoder_inputs)\n",
    "x = TransformerDecoder(embed_dim, dense_dim, num_heads)(x, encoder_outputs)\n",
    "x = layers.Dropout(0.5)(x)\n",
    "decoder_outputs = layers.Dense(vocab_size, activation=\"softmax\")(x)\n",
    "transformer = keras.Model([encoder_inputs, decoder_inputs], decoder_outputs)"
   ]
  },
  {
   "cell_type": "markdown",
   "metadata": {
    "id": "A0EheoMnv5uW"
   },
   "source": [
    "**Training the sequence-to-sequence Transformer**"
   ]
  },
  {
   "cell_type": "code",
   "execution_count": 18,
   "metadata": {
    "colab": {
     "base_uri": "https://localhost:8080/"
    },
    "executionInfo": {
     "elapsed": 3117110,
     "status": "ok",
     "timestamp": 1670357434525,
     "user": {
      "displayName": "余若慈",
      "userId": "15335659795739000199"
     },
     "user_tz": -480
    },
    "id": "h6y_8Vi6v5uW",
    "outputId": "01596c85-4a6a-4bc3-d601-d54b5016b83b"
   },
   "outputs": [
    {
     "name": "stdout",
     "output_type": "stream",
     "text": [
      "Epoch 1/30\n",
      "1302/1302 [==============================] - 95s 70ms/step - loss: 1.7339 - accuracy: 0.3983 - val_loss: 1.3876 - val_accuracy: 0.4825\n",
      "Epoch 2/30\n",
      "1302/1302 [==============================] - 90s 69ms/step - loss: 1.4180 - accuracy: 0.5038 - val_loss: 1.2331 - val_accuracy: 0.5436\n",
      "Epoch 3/30\n",
      "1302/1302 [==============================] - 90s 69ms/step - loss: 1.2561 - accuracy: 0.5556 - val_loss: 1.1282 - val_accuracy: 0.5817\n",
      "Epoch 4/30\n",
      "1302/1302 [==============================] - 90s 69ms/step - loss: 1.1454 - accuracy: 0.5940 - val_loss: 1.0665 - val_accuracy: 0.6091\n",
      "Epoch 5/30\n",
      "1302/1302 [==============================] - 90s 69ms/step - loss: 1.0837 - accuracy: 0.6211 - val_loss: 1.0391 - val_accuracy: 0.6223\n",
      "Epoch 6/30\n",
      "1302/1302 [==============================] - 89s 69ms/step - loss: 1.0463 - accuracy: 0.6402 - val_loss: 1.0143 - val_accuracy: 0.6353\n",
      "Epoch 7/30\n",
      "1302/1302 [==============================] - 90s 69ms/step - loss: 1.0172 - accuracy: 0.6553 - val_loss: 1.0065 - val_accuracy: 0.6405\n",
      "Epoch 8/30\n",
      "1302/1302 [==============================] - 90s 69ms/step - loss: 0.9957 - accuracy: 0.6679 - val_loss: 1.0031 - val_accuracy: 0.6448\n",
      "Epoch 9/30\n",
      "1302/1302 [==============================] - 89s 69ms/step - loss: 0.9759 - accuracy: 0.6783 - val_loss: 0.9963 - val_accuracy: 0.6495\n",
      "Epoch 10/30\n",
      "1302/1302 [==============================] - 89s 69ms/step - loss: 0.9596 - accuracy: 0.6867 - val_loss: 0.9912 - val_accuracy: 0.6544\n",
      "Epoch 11/30\n",
      "1302/1302 [==============================] - 89s 69ms/step - loss: 0.9442 - accuracy: 0.6943 - val_loss: 0.9877 - val_accuracy: 0.6575\n",
      "Epoch 12/30\n",
      "1302/1302 [==============================] - 90s 69ms/step - loss: 0.9308 - accuracy: 0.7015 - val_loss: 0.9946 - val_accuracy: 0.6548\n",
      "Epoch 13/30\n",
      "1302/1302 [==============================] - 90s 69ms/step - loss: 0.9175 - accuracy: 0.7071 - val_loss: 0.9959 - val_accuracy: 0.6565\n",
      "Epoch 14/30\n",
      "1302/1302 [==============================] - 90s 69ms/step - loss: 0.9050 - accuracy: 0.7131 - val_loss: 0.9988 - val_accuracy: 0.6598\n",
      "Epoch 15/30\n",
      "1302/1302 [==============================] - 90s 69ms/step - loss: 0.8921 - accuracy: 0.7181 - val_loss: 0.9925 - val_accuracy: 0.6613\n",
      "Epoch 16/30\n",
      "1302/1302 [==============================] - 90s 69ms/step - loss: 0.8820 - accuracy: 0.7224 - val_loss: 1.0057 - val_accuracy: 0.6607\n",
      "Epoch 17/30\n",
      "1302/1302 [==============================] - 90s 69ms/step - loss: 0.8712 - accuracy: 0.7267 - val_loss: 1.0039 - val_accuracy: 0.6606\n",
      "Epoch 18/30\n",
      "1302/1302 [==============================] - 90s 69ms/step - loss: 0.8595 - accuracy: 0.7318 - val_loss: 1.0049 - val_accuracy: 0.6618\n",
      "Epoch 19/30\n",
      "1302/1302 [==============================] - 91s 70ms/step - loss: 0.8489 - accuracy: 0.7347 - val_loss: 1.0081 - val_accuracy: 0.6604\n",
      "Epoch 20/30\n",
      "1302/1302 [==============================] - 90s 69ms/step - loss: 0.8408 - accuracy: 0.7387 - val_loss: 1.0177 - val_accuracy: 0.6606\n",
      "Epoch 21/30\n",
      "1302/1302 [==============================] - 91s 70ms/step - loss: 0.8307 - accuracy: 0.7424 - val_loss: 1.0195 - val_accuracy: 0.6577\n",
      "Epoch 22/30\n",
      "1302/1302 [==============================] - 91s 70ms/step - loss: 0.8214 - accuracy: 0.7462 - val_loss: 1.0282 - val_accuracy: 0.6567\n",
      "Epoch 23/30\n",
      "1302/1302 [==============================] - 90s 69ms/step - loss: 0.8122 - accuracy: 0.7488 - val_loss: 1.0210 - val_accuracy: 0.6634\n",
      "Epoch 24/30\n",
      "1302/1302 [==============================] - 90s 69ms/step - loss: 0.8053 - accuracy: 0.7515 - val_loss: 1.0283 - val_accuracy: 0.6643\n",
      "Epoch 25/30\n",
      "1302/1302 [==============================] - 90s 69ms/step - loss: 0.7993 - accuracy: 0.7541 - val_loss: 1.0360 - val_accuracy: 0.6637\n",
      "Epoch 26/30\n",
      "1302/1302 [==============================] - 90s 69ms/step - loss: 0.7903 - accuracy: 0.7577 - val_loss: 1.0415 - val_accuracy: 0.6622\n",
      "Epoch 27/30\n",
      "1302/1302 [==============================] - 90s 69ms/step - loss: 0.7821 - accuracy: 0.7608 - val_loss: 1.0524 - val_accuracy: 0.6618\n",
      "Epoch 28/30\n",
      "1302/1302 [==============================] - 90s 69ms/step - loss: 0.7746 - accuracy: 0.7624 - val_loss: 1.0400 - val_accuracy: 0.6624\n",
      "Epoch 29/30\n",
      "1302/1302 [==============================] - 89s 69ms/step - loss: 0.7692 - accuracy: 0.7649 - val_loss: 1.0586 - val_accuracy: 0.6626\n",
      "Epoch 30/30\n",
      "1302/1302 [==============================] - 90s 69ms/step - loss: 0.7646 - accuracy: 0.7671 - val_loss: 1.0593 - val_accuracy: 0.6638\n"
     ]
    },
    {
     "data": {
      "text/plain": [
       "<keras.callbacks.History at 0x7fdeddfd3c70>"
      ]
     },
     "execution_count": 18,
     "metadata": {},
     "output_type": "execute_result"
    }
   ],
   "source": [
    "transformer.compile(\n",
    "    optimizer=\"rmsprop\",\n",
    "    loss=\"sparse_categorical_crossentropy\",\n",
    "    metrics=[\"accuracy\"])\n",
    "transformer.fit(train_ds, epochs=30, validation_data=val_ds)"
   ]
  },
  {
   "cell_type": "markdown",
   "metadata": {
    "id": "VFP3Fe55v5uW"
   },
   "source": [
    "**Translating new sentences with our Transformer model**"
   ]
  },
  {
   "cell_type": "code",
   "execution_count": 19,
   "metadata": {
    "colab": {
     "base_uri": "https://localhost:8080/"
    },
    "executionInfo": {
     "elapsed": 5292,
     "status": "ok",
     "timestamp": 1670357453947,
     "user": {
      "displayName": "余若慈",
      "userId": "15335659795739000199"
     },
     "user_tz": -480
    },
    "id": "KJhYv4Oov5uW",
    "outputId": "64fc8304-1c22-4ace-a981-acefeb46a431"
   },
   "outputs": [
    {
     "name": "stdout",
     "output_type": "stream",
     "text": [
      "-\n",
      "Enjoy your trip.\n",
      "[start] [UNK] tu viaje [end]\n",
      "-\n",
      "A long time ago, there was a bridge here.\n",
      "[start] hace mucho tiempo había una casa ahí [end]\n",
      "-\n",
      "Consider yourself lucky.\n",
      "[start] [UNK] a suerte [end]\n",
      "-\n",
      "He will arrive in Paris tomorrow.\n",
      "[start] Él vendrá mañana en parís [end]\n",
      "-\n",
      "The flood did a lot of harm to the crops.\n",
      "[start] la de [UNK] muchos [UNK] a la de la de la de [end]\n",
      "-\n",
      "Tom is very stingy.\n",
      "[start] tom es muy [UNK] [end]\n",
      "-\n",
      "When will your father arrive?\n",
      "[start] cuándo vendrá tu padre [end]\n",
      "-\n",
      "Please turn over.\n",
      "[start] por favor [UNK] [end]\n",
      "-\n",
      "Tom doesn't understand what Mary is trying to say.\n",
      "[start] tom no entiende lo que mary esté intentando decir [end]\n",
      "-\n",
      "I generally have lunch there.\n",
      "[start] yo como [UNK] ahí [end]\n",
      "-\n",
      "Turn off the TV.\n",
      "[start] [UNK] la televisión [end]\n",
      "-\n",
      "Tom keeps an extra pair of shoes in the trunk of his car.\n",
      "[start] tom tiene un par de zapatos [UNK] en el no [UNK] de su [end]\n",
      "-\n",
      "Tom doesn't know when Mary will leave Boston.\n",
      "[start] tom no sabe cuándo mary se [UNK] boston [end]\n",
      "-\n",
      "How many people were present at the meeting?\n",
      "[start] cuántos personas fueron [UNK] en la reunión [end]\n",
      "-\n",
      "Send me a letter when you arrive.\n",
      "[start] [UNK] una carta cuando tú [UNK] [end]\n",
      "-\n",
      "Keep in mind what I tell you.\n",
      "[start] [UNK] en lo que te digo [end]\n",
      "-\n",
      "Perfect people don't exist.\n",
      "[start] el [UNK] no es necesario [UNK] [end]\n",
      "-\n",
      "Everyone smiled.\n",
      "[start] todos [UNK] [end]\n",
      "-\n",
      "Tom should leave now.\n",
      "[start] tom debería salir ahora [end]\n",
      "-\n",
      "Have you ever climbed Mount Everest?\n",
      "[start] alguna vez has [UNK] un monte se un monte se [UNK] [end]\n"
     ]
    }
   ],
   "source": [
    "import numpy as np\n",
    "spa_vocab = target_vectorization.get_vocabulary()\n",
    "spa_index_lookup = dict(zip(range(len(spa_vocab)), spa_vocab))\n",
    "max_decoded_sentence_length = 20\n",
    "\n",
    "def decode_sequence(input_sentence):\n",
    "    tokenized_input_sentence = source_vectorization([input_sentence])\n",
    "    decoded_sentence = \"[start]\"\n",
    "    for i in range(max_decoded_sentence_length):\n",
    "        tokenized_target_sentence = target_vectorization(\n",
    "            [decoded_sentence])[:, :-1]\n",
    "        predictions = transformer(\n",
    "            [tokenized_input_sentence, tokenized_target_sentence])\n",
    "        sampled_token_index = np.argmax(predictions[0, i, :])\n",
    "        sampled_token = spa_index_lookup[sampled_token_index]\n",
    "        decoded_sentence += \" \" + sampled_token\n",
    "        if sampled_token == \"[end]\":\n",
    "            break\n",
    "    return decoded_sentence\n",
    "\n",
    "test_eng_texts = [pair[0] for pair in test_pairs]\n",
    "for _ in range(20):\n",
    "    input_sentence = random.choice(test_eng_texts)\n",
    "    print(\"-\")\n",
    "    print(input_sentence)\n",
    "    print(decode_sequence(input_sentence))"
   ]
  }
 ],
 "metadata": {
  "accelerator": "GPU",
  "colab": {
   "provenance": []
  },
  "gpuClass": "standard",
  "kernelspec": {
   "display_name": "Python 3 (ipykernel)",
   "language": "python",
   "name": "python3"
  },
  "language_info": {
   "codemirror_mode": {
    "name": "ipython",
    "version": 3
   },
   "file_extension": ".py",
   "mimetype": "text/x-python",
   "name": "python",
   "nbconvert_exporter": "python",
   "pygments_lexer": "ipython3",
   "version": "3.7.0"
  }
 },
 "nbformat": 4,
 "nbformat_minor": 1
}
