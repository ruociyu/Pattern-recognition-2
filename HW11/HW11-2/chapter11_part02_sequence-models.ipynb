{
 "cells": [
  {
   "cell_type": "markdown",
   "metadata": {
    "id": "ZWH6hqCLVuCH"
   },
   "source": [
    "### Processing words as a sequence: The sequence model approach"
   ]
  },
  {
   "cell_type": "markdown",
   "metadata": {
    "id": "kHKE6HMxVuCL"
   },
   "source": [
    "#### A first practical example"
   ]
  },
  {
   "cell_type": "markdown",
   "metadata": {
    "id": "EeaxDHwAVuCN"
   },
   "source": [
    "**Downloading the data**"
   ]
  },
  {
   "cell_type": "code",
   "execution_count": 1,
   "metadata": {
    "colab": {
     "base_uri": "https://localhost:8080/"
    },
    "executionInfo": {
     "elapsed": 20319,
     "status": "ok",
     "timestamp": 1670345407798,
     "user": {
      "displayName": "余若慈",
      "userId": "15335659795739000199"
     },
     "user_tz": -480
    },
    "id": "8rxje-IWVuCS",
    "outputId": "f85555f8-807f-46c8-d9ed-8269475a1677"
   },
   "outputs": [
    {
     "name": "stdout",
     "output_type": "stream",
     "text": [
      "  % Total    % Received % Xferd  Average Speed   Time    Time     Time  Current\n",
      "                                 Dload  Upload   Total   Spent    Left  Speed\n",
      "100 80.2M  100 80.2M    0     0  6593k      0  0:00:12  0:00:12 --:--:-- 13.4M\n"
     ]
    }
   ],
   "source": [
    "!curl -O https://ai.stanford.edu/~amaas/data/sentiment/aclImdb_v1.tar.gz\n",
    "!tar -xf aclImdb_v1.tar.gz\n",
    "!rm -r aclImdb/train/unsup"
   ]
  },
  {
   "cell_type": "markdown",
   "metadata": {
    "id": "DilHyryMVuCV"
   },
   "source": [
    "**Preparing the data**"
   ]
  },
  {
   "cell_type": "code",
   "execution_count": 2,
   "metadata": {
    "colab": {
     "base_uri": "https://localhost:8080/"
    },
    "executionInfo": {
     "elapsed": 9247,
     "status": "ok",
     "timestamp": 1670345424870,
     "user": {
      "displayName": "余若慈",
      "userId": "15335659795739000199"
     },
     "user_tz": -480
    },
    "id": "hluwX9IaVuCa",
    "outputId": "0c713896-6530-4926-c334-d85ac113e998"
   },
   "outputs": [
    {
     "name": "stdout",
     "output_type": "stream",
     "text": [
      "Found 20000 files belonging to 2 classes.\n",
      "Found 5000 files belonging to 2 classes.\n",
      "Found 25000 files belonging to 2 classes.\n"
     ]
    }
   ],
   "source": [
    "import os, pathlib, shutil, random\n",
    "from tensorflow import keras\n",
    "batch_size = 32\n",
    "base_dir = pathlib.Path(\"aclImdb\")\n",
    "val_dir = base_dir / \"val\"\n",
    "train_dir = base_dir / \"train\"\n",
    "for category in (\"neg\", \"pos\"):\n",
    "    os.makedirs(val_dir / category)\n",
    "    files = os.listdir(train_dir / category)\n",
    "    random.Random(1337).shuffle(files)\n",
    "    num_val_samples = int(0.2 * len(files))\n",
    "    val_files = files[-num_val_samples:]\n",
    "    for fname in val_files:\n",
    "        shutil.move(train_dir / category / fname,\n",
    "                    val_dir / category / fname)\n",
    "\n",
    "train_ds = keras.utils.text_dataset_from_directory(\n",
    "    \"aclImdb/train\", batch_size=batch_size\n",
    ")\n",
    "val_ds = keras.utils.text_dataset_from_directory(\n",
    "    \"aclImdb/val\", batch_size=batch_size\n",
    ")\n",
    "test_ds = keras.utils.text_dataset_from_directory(\n",
    "    \"aclImdb/test\", batch_size=batch_size\n",
    ")\n",
    "text_only_train_ds = train_ds.map(lambda x, y: x)"
   ]
  },
  {
   "cell_type": "markdown",
   "metadata": {
    "id": "rKkR2zu5VuCg"
   },
   "source": [
    "**Preparing integer sequence datasets**"
   ]
  },
  {
   "cell_type": "code",
   "execution_count": 3,
   "metadata": {
    "executionInfo": {
     "elapsed": 5840,
     "status": "ok",
     "timestamp": 1670345433435,
     "user": {
      "displayName": "余若慈",
      "userId": "15335659795739000199"
     },
     "user_tz": -480
    },
    "id": "g8dpFsTyVuCq"
   },
   "outputs": [],
   "source": [
    "from tensorflow.keras import layers\n",
    "\n",
    "max_length = 600\n",
    "max_tokens = 20000\n",
    "text_vectorization = layers.TextVectorization(\n",
    "    max_tokens=max_tokens,\n",
    "    output_mode=\"int\",\n",
    "    output_sequence_length=max_length,\n",
    ")\n",
    "text_vectorization.adapt(text_only_train_ds)\n",
    "\n",
    "int_train_ds = train_ds.map(\n",
    "    lambda x, y: (text_vectorization(x), y),\n",
    "    num_parallel_calls=4)\n",
    "int_val_ds = val_ds.map(\n",
    "    lambda x, y: (text_vectorization(x), y),\n",
    "    num_parallel_calls=4)\n",
    "int_test_ds = test_ds.map(\n",
    "    lambda x, y: (text_vectorization(x), y),\n",
    "    num_parallel_calls=4)"
   ]
  },
  {
   "cell_type": "markdown",
   "metadata": {
    "id": "cyvUE605VuCt"
   },
   "source": [
    "**A sequence model built on one-hot encoded vector sequences**"
   ]
  },
  {
   "cell_type": "code",
   "execution_count": 4,
   "metadata": {
    "colab": {
     "base_uri": "https://localhost:8080/"
    },
    "executionInfo": {
     "elapsed": 2001,
     "status": "ok",
     "timestamp": 1670345462772,
     "user": {
      "displayName": "余若慈",
      "userId": "15335659795739000199"
     },
     "user_tz": -480
    },
    "id": "S30P0fgSVuCu",
    "outputId": "72d9d1d7-680d-47b5-ece9-e3f346f97c04"
   },
   "outputs": [
    {
     "name": "stdout",
     "output_type": "stream",
     "text": [
      "Model: \"model\"\n",
      "_________________________________________________________________\n",
      " Layer (type)                Output Shape              Param #   \n",
      "=================================================================\n",
      " input_1 (InputLayer)        [(None, None)]            0         \n",
      "                                                                 \n",
      " tf.one_hot (TFOpLambda)     (None, None, 20000)       0         \n",
      "                                                                 \n",
      " bidirectional (Bidirectiona  (None, 64)               5128448   \n",
      " l)                                                              \n",
      "                                                                 \n",
      " dropout (Dropout)           (None, 64)                0         \n",
      "                                                                 \n",
      " dense (Dense)               (None, 1)                 65        \n",
      "                                                                 \n",
      "=================================================================\n",
      "Total params: 5,128,513\n",
      "Trainable params: 5,128,513\n",
      "Non-trainable params: 0\n",
      "_________________________________________________________________\n"
     ]
    }
   ],
   "source": [
    "import tensorflow as tf\n",
    "inputs = keras.Input(shape=(None,), dtype=\"int64\")\n",
    "embedded = tf.one_hot(inputs, depth=max_tokens)\n",
    "x = layers.Bidirectional(layers.LSTM(32))(embedded)\n",
    "x = layers.Dropout(0.5)(x)\n",
    "outputs = layers.Dense(1, activation=\"sigmoid\")(x)\n",
    "model = keras.Model(inputs, outputs)\n",
    "model.compile(optimizer=\"rmsprop\",\n",
    "              loss=\"binary_crossentropy\",\n",
    "              metrics=[\"accuracy\"])\n",
    "model.summary()"
   ]
  },
  {
   "cell_type": "markdown",
   "metadata": {
    "id": "zGNxApLuVuCx"
   },
   "source": [
    "**Training a first basic sequence model**"
   ]
  },
  {
   "cell_type": "code",
   "execution_count": 5,
   "metadata": {
    "colab": {
     "base_uri": "https://localhost:8080/"
    },
    "executionInfo": {
     "elapsed": 2058597,
     "status": "ok",
     "timestamp": 1670347525340,
     "user": {
      "displayName": "余若慈",
      "userId": "15335659795739000199"
     },
     "user_tz": -480
    },
    "id": "3er74ld0VuC0",
    "outputId": "5beb638b-ac36-409b-ade8-304d57507498"
   },
   "outputs": [
    {
     "name": "stdout",
     "output_type": "stream",
     "text": [
      "Epoch 1/10\n",
      "625/625 [==============================] - 166s 253ms/step - loss: 0.5427 - accuracy: 0.7354 - val_loss: 0.3467 - val_accuracy: 0.8722\n",
      "Epoch 2/10\n",
      "625/625 [==============================] - 164s 262ms/step - loss: 0.3483 - accuracy: 0.8715 - val_loss: 0.3065 - val_accuracy: 0.8800\n",
      "Epoch 3/10\n",
      "625/625 [==============================] - 169s 270ms/step - loss: 0.2692 - accuracy: 0.9053 - val_loss: 0.3120 - val_accuracy: 0.8686\n",
      "Epoch 4/10\n",
      "625/625 [==============================] - 169s 270ms/step - loss: 0.2369 - accuracy: 0.9171 - val_loss: 0.2802 - val_accuracy: 0.8918\n",
      "Epoch 5/10\n",
      "625/625 [==============================] - 166s 265ms/step - loss: 0.2042 - accuracy: 0.9313 - val_loss: 0.2988 - val_accuracy: 0.8932\n",
      "Epoch 6/10\n",
      "625/625 [==============================] - 170s 272ms/step - loss: 0.1847 - accuracy: 0.9398 - val_loss: 0.3549 - val_accuracy: 0.8856\n",
      "Epoch 7/10\n",
      "625/625 [==============================] - 168s 268ms/step - loss: 0.1613 - accuracy: 0.9473 - val_loss: 0.3068 - val_accuracy: 0.8898\n",
      "Epoch 8/10\n",
      "625/625 [==============================] - 167s 267ms/step - loss: 0.1437 - accuracy: 0.9523 - val_loss: 0.3216 - val_accuracy: 0.8930\n",
      "Epoch 9/10\n",
      "625/625 [==============================] - 173s 277ms/step - loss: 0.1247 - accuracy: 0.9606 - val_loss: 0.5540 - val_accuracy: 0.8394\n",
      "Epoch 10/10\n",
      "625/625 [==============================] - 173s 276ms/step - loss: 0.1064 - accuracy: 0.9672 - val_loss: 0.3972 - val_accuracy: 0.8848\n",
      "782/782 [==============================] - 102s 129ms/step - loss: 0.3097 - accuracy: 0.8797\n",
      "Test acc: 0.880\n"
     ]
    }
   ],
   "source": [
    "callbacks = [\n",
    "    keras.callbacks.ModelCheckpoint(\"one_hot_bidir_lstm.keras\",\n",
    "                                    save_best_only=True)\n",
    "]\n",
    "model.fit(int_train_ds, validation_data=int_val_ds, epochs=10, callbacks=callbacks)\n",
    "model = keras.models.load_model(\"one_hot_bidir_lstm.keras\")\n",
    "print(f\"Test acc: {model.evaluate(int_test_ds)[1]:.3f}\")"
   ]
  },
  {
   "cell_type": "markdown",
   "metadata": {
    "id": "ztHcCLTCVuC1"
   },
   "source": [
    "#### Understanding word embeddings"
   ]
  },
  {
   "cell_type": "markdown",
   "metadata": {
    "id": "ME4Q1WBgVuC2"
   },
   "source": [
    "#### Learning word embeddings with the Embedding layer"
   ]
  },
  {
   "cell_type": "markdown",
   "metadata": {
    "id": "7JHYFtOrVuC2"
   },
   "source": [
    "**Instantiating an `Embedding` layer**"
   ]
  },
  {
   "cell_type": "code",
   "execution_count": 6,
   "metadata": {
    "executionInfo": {
     "elapsed": 526,
     "status": "ok",
     "timestamp": 1670347580206,
     "user": {
      "displayName": "余若慈",
      "userId": "15335659795739000199"
     },
     "user_tz": -480
    },
    "id": "yU7hQCsfVuC3"
   },
   "outputs": [],
   "source": [
    "embedding_layer = layers.Embedding(input_dim=max_tokens, output_dim=256)"
   ]
  },
  {
   "cell_type": "markdown",
   "metadata": {
    "id": "IAXpN1zbVuDE"
   },
   "source": [
    "**Model that uses an `Embedding` layer trained from scratch**"
   ]
  },
  {
   "cell_type": "code",
   "execution_count": 7,
   "metadata": {
    "colab": {
     "base_uri": "https://localhost:8080/"
    },
    "executionInfo": {
     "elapsed": 432972,
     "status": "ok",
     "timestamp": 1670348014806,
     "user": {
      "displayName": "余若慈",
      "userId": "15335659795739000199"
     },
     "user_tz": -480
    },
    "id": "Hw7OeT6XVuDF",
    "outputId": "633c679f-2130-4d10-ea00-427e09dc0aac"
   },
   "outputs": [
    {
     "name": "stdout",
     "output_type": "stream",
     "text": [
      "Model: \"model_1\"\n",
      "_________________________________________________________________\n",
      " Layer (type)                Output Shape              Param #   \n",
      "=================================================================\n",
      " input_2 (InputLayer)        [(None, None)]            0         \n",
      "                                                                 \n",
      " embedding_1 (Embedding)     (None, None, 256)         5120000   \n",
      "                                                                 \n",
      " bidirectional_1 (Bidirectio  (None, 64)               73984     \n",
      " nal)                                                            \n",
      "                                                                 \n",
      " dropout_1 (Dropout)         (None, 64)                0         \n",
      "                                                                 \n",
      " dense_1 (Dense)             (None, 1)                 65        \n",
      "                                                                 \n",
      "=================================================================\n",
      "Total params: 5,194,049\n",
      "Trainable params: 5,194,049\n",
      "Non-trainable params: 0\n",
      "_________________________________________________________________\n",
      "Epoch 1/10\n",
      "625/625 [==============================] - 43s 65ms/step - loss: 0.4699 - accuracy: 0.7891 - val_loss: 0.3531 - val_accuracy: 0.8666\n",
      "Epoch 2/10\n",
      "625/625 [==============================] - 39s 62ms/step - loss: 0.3195 - accuracy: 0.8872 - val_loss: 0.3173 - val_accuracy: 0.8732\n",
      "Epoch 3/10\n",
      "625/625 [==============================] - 38s 61ms/step - loss: 0.2379 - accuracy: 0.9185 - val_loss: 0.3124 - val_accuracy: 0.8790\n",
      "Epoch 4/10\n",
      "625/625 [==============================] - 39s 62ms/step - loss: 0.2020 - accuracy: 0.9324 - val_loss: 0.3101 - val_accuracy: 0.8852\n",
      "Epoch 5/10\n",
      "625/625 [==============================] - 38s 61ms/step - loss: 0.1785 - accuracy: 0.9383 - val_loss: 0.3368 - val_accuracy: 0.8726\n",
      "Epoch 6/10\n",
      "625/625 [==============================] - 34s 55ms/step - loss: 0.1506 - accuracy: 0.9498 - val_loss: 0.3695 - val_accuracy: 0.8680\n",
      "Epoch 7/10\n",
      "625/625 [==============================] - 37s 58ms/step - loss: 0.1238 - accuracy: 0.9598 - val_loss: 0.3864 - val_accuracy: 0.8842\n",
      "Epoch 8/10\n",
      "625/625 [==============================] - 40s 63ms/step - loss: 0.1102 - accuracy: 0.9651 - val_loss: 0.3983 - val_accuracy: 0.8806\n",
      "Epoch 9/10\n",
      "625/625 [==============================] - 38s 61ms/step - loss: 0.0894 - accuracy: 0.9715 - val_loss: 0.4187 - val_accuracy: 0.8852\n",
      "Epoch 10/10\n",
      "625/625 [==============================] - 36s 57ms/step - loss: 0.0783 - accuracy: 0.9754 - val_loss: 0.4056 - val_accuracy: 0.8782\n",
      "782/782 [==============================] - 28s 35ms/step - loss: 0.3621 - accuracy: 0.8674\n",
      "Test acc: 0.867\n"
     ]
    }
   ],
   "source": [
    "inputs = keras.Input(shape=(None,), dtype=\"int64\")\n",
    "embedded = layers.Embedding(input_dim=max_tokens, output_dim=256)(inputs)\n",
    "x = layers.Bidirectional(layers.LSTM(32))(embedded)\n",
    "x = layers.Dropout(0.5)(x)\n",
    "outputs = layers.Dense(1, activation=\"sigmoid\")(x)\n",
    "model = keras.Model(inputs, outputs)\n",
    "model.compile(optimizer=\"rmsprop\",\n",
    "              loss=\"binary_crossentropy\",\n",
    "              metrics=[\"accuracy\"])\n",
    "model.summary()\n",
    "\n",
    "callbacks = [\n",
    "    keras.callbacks.ModelCheckpoint(\"embeddings_bidir_gru.keras\",\n",
    "                                    save_best_only=True)\n",
    "]\n",
    "model.fit(int_train_ds, validation_data=int_val_ds, epochs=10, callbacks=callbacks)\n",
    "model = keras.models.load_model(\"embeddings_bidir_gru.keras\")\n",
    "print(f\"Test acc: {model.evaluate(int_test_ds)[1]:.3f}\")"
   ]
  },
  {
   "cell_type": "markdown",
   "metadata": {
    "id": "TMgmD2sVVuDO"
   },
   "source": [
    "#### Understanding padding and masking"
   ]
  },
  {
   "cell_type": "markdown",
   "metadata": {
    "id": "LhgJ_ghAVuDQ"
   },
   "source": [
    "**Using an `Embedding` layer with masking enabled**"
   ]
  },
  {
   "cell_type": "code",
   "execution_count": 8,
   "metadata": {
    "colab": {
     "base_uri": "https://localhost:8080/"
    },
    "executionInfo": {
     "elapsed": 437053,
     "status": "ok",
     "timestamp": 1670348451847,
     "user": {
      "displayName": "余若慈",
      "userId": "15335659795739000199"
     },
     "user_tz": -480
    },
    "id": "cZ0N2dr1VuDS",
    "outputId": "deabc9db-efe4-427f-c65a-ce311b68af37"
   },
   "outputs": [
    {
     "name": "stdout",
     "output_type": "stream",
     "text": [
      "Model: \"model_2\"\n",
      "_________________________________________________________________\n",
      " Layer (type)                Output Shape              Param #   \n",
      "=================================================================\n",
      " input_3 (InputLayer)        [(None, None)]            0         \n",
      "                                                                 \n",
      " embedding_2 (Embedding)     (None, None, 256)         5120000   \n",
      "                                                                 \n",
      " bidirectional_2 (Bidirectio  (None, 64)               73984     \n",
      " nal)                                                            \n",
      "                                                                 \n",
      " dropout_2 (Dropout)         (None, 64)                0         \n",
      "                                                                 \n",
      " dense_2 (Dense)             (None, 1)                 65        \n",
      "                                                                 \n",
      "=================================================================\n",
      "Total params: 5,194,049\n",
      "Trainable params: 5,194,049\n",
      "Non-trainable params: 0\n",
      "_________________________________________________________________\n",
      "Epoch 1/10\n",
      "625/625 [==============================] - 44s 61ms/step - loss: 0.4015 - accuracy: 0.8174 - val_loss: 0.3319 - val_accuracy: 0.8576\n",
      "Epoch 2/10\n",
      "625/625 [==============================] - 38s 61ms/step - loss: 0.2260 - accuracy: 0.9114 - val_loss: 0.2754 - val_accuracy: 0.8898\n",
      "Epoch 3/10\n",
      "625/625 [==============================] - 38s 61ms/step - loss: 0.1684 - accuracy: 0.9373 - val_loss: 0.2907 - val_accuracy: 0.8946\n",
      "Epoch 4/10\n",
      "625/625 [==============================] - 40s 64ms/step - loss: 0.1308 - accuracy: 0.9528 - val_loss: 0.3191 - val_accuracy: 0.8936\n",
      "Epoch 5/10\n",
      "625/625 [==============================] - 40s 63ms/step - loss: 0.0934 - accuracy: 0.9675 - val_loss: 0.3392 - val_accuracy: 0.8886\n",
      "Epoch 6/10\n",
      "625/625 [==============================] - 40s 64ms/step - loss: 0.0732 - accuracy: 0.9756 - val_loss: 0.3499 - val_accuracy: 0.8784\n",
      "Epoch 7/10\n",
      "625/625 [==============================] - 39s 63ms/step - loss: 0.0528 - accuracy: 0.9823 - val_loss: 0.4593 - val_accuracy: 0.8662\n",
      "Epoch 8/10\n",
      "625/625 [==============================] - 39s 63ms/step - loss: 0.0389 - accuracy: 0.9870 - val_loss: 0.4777 - val_accuracy: 0.8768\n",
      "Epoch 9/10\n",
      "625/625 [==============================] - 39s 63ms/step - loss: 0.0243 - accuracy: 0.9921 - val_loss: 0.5829 - val_accuracy: 0.8776\n",
      "Epoch 10/10\n",
      "625/625 [==============================] - 40s 64ms/step - loss: 0.0170 - accuracy: 0.9941 - val_loss: 0.6112 - val_accuracy: 0.8780\n",
      "782/782 [==============================] - 27s 32ms/step - loss: 0.2925 - accuracy: 0.8799\n",
      "Test acc: 0.880\n"
     ]
    }
   ],
   "source": [
    "inputs = keras.Input(shape=(None,), dtype=\"int64\")\n",
    "embedded = layers.Embedding(\n",
    "    input_dim=max_tokens, output_dim=256, mask_zero=True)(inputs)\n",
    "x = layers.Bidirectional(layers.LSTM(32))(embedded)\n",
    "x = layers.Dropout(0.5)(x)\n",
    "outputs = layers.Dense(1, activation=\"sigmoid\")(x)\n",
    "model = keras.Model(inputs, outputs)\n",
    "model.compile(optimizer=\"rmsprop\",\n",
    "              loss=\"binary_crossentropy\",\n",
    "              metrics=[\"accuracy\"])\n",
    "model.summary()\n",
    "\n",
    "callbacks = [\n",
    "    keras.callbacks.ModelCheckpoint(\"embeddings_bidir_gru_with_masking.keras\",\n",
    "                                    save_best_only=True)\n",
    "]\n",
    "model.fit(int_train_ds, validation_data=int_val_ds, epochs=10, callbacks=callbacks)\n",
    "model = keras.models.load_model(\"embeddings_bidir_gru_with_masking.keras\")\n",
    "print(f\"Test acc: {model.evaluate(int_test_ds)[1]:.3f}\")"
   ]
  },
  {
   "cell_type": "markdown",
   "metadata": {
    "id": "GJFPI_dtVuDT"
   },
   "source": [
    "#### Using pretrained word embeddings"
   ]
  },
  {
   "cell_type": "code",
   "execution_count": 9,
   "metadata": {
    "colab": {
     "base_uri": "https://localhost:8080/"
    },
    "executionInfo": {
     "elapsed": 181785,
     "status": "ok",
     "timestamp": 1670348633594,
     "user": {
      "displayName": "余若慈",
      "userId": "15335659795739000199"
     },
     "user_tz": -480
    },
    "id": "hGdQBlq5VuDV",
    "outputId": "d9ed3628-bc8f-48ec-cfc9-92e47e57d2ff"
   },
   "outputs": [
    {
     "name": "stdout",
     "output_type": "stream",
     "text": [
      "--2022-12-06 17:40:51--  http://nlp.stanford.edu/data/glove.6B.zip\n",
      "Resolving nlp.stanford.edu (nlp.stanford.edu)... 171.64.67.140\n",
      "Connecting to nlp.stanford.edu (nlp.stanford.edu)|171.64.67.140|:80... connected.\n",
      "HTTP request sent, awaiting response... 302 Found\n",
      "Location: https://nlp.stanford.edu/data/glove.6B.zip [following]\n",
      "--2022-12-06 17:40:52--  https://nlp.stanford.edu/data/glove.6B.zip\n",
      "Connecting to nlp.stanford.edu (nlp.stanford.edu)|171.64.67.140|:443... connected.\n",
      "HTTP request sent, awaiting response... 301 Moved Permanently\n",
      "Location: https://downloads.cs.stanford.edu/nlp/data/glove.6B.zip [following]\n",
      "--2022-12-06 17:40:52--  https://downloads.cs.stanford.edu/nlp/data/glove.6B.zip\n",
      "Resolving downloads.cs.stanford.edu (downloads.cs.stanford.edu)... 171.64.64.22\n",
      "Connecting to downloads.cs.stanford.edu (downloads.cs.stanford.edu)|171.64.64.22|:443... connected.\n",
      "HTTP request sent, awaiting response... 200 OK\n",
      "Length: 862182613 (822M) [application/zip]\n",
      "Saving to: ‘glove.6B.zip’\n",
      "\n",
      "glove.6B.zip        100%[===================>] 822.24M  5.00MB/s    in 2m 39s  \n",
      "\n",
      "2022-12-06 17:43:32 (5.18 MB/s) - ‘glove.6B.zip’ saved [862182613/862182613]\n",
      "\n"
     ]
    }
   ],
   "source": [
    "!wget http://nlp.stanford.edu/data/glove.6B.zip\n",
    "!unzip -q glove.6B.zip"
   ]
  },
  {
   "cell_type": "markdown",
   "metadata": {
    "id": "GKGJ80yrVuDX"
   },
   "source": [
    "**Parsing the GloVe word-embeddings file**"
   ]
  },
  {
   "cell_type": "code",
   "execution_count": 10,
   "metadata": {
    "colab": {
     "base_uri": "https://localhost:8080/"
    },
    "executionInfo": {
     "elapsed": 5502,
     "status": "ok",
     "timestamp": 1670348639090,
     "user": {
      "displayName": "余若慈",
      "userId": "15335659795739000199"
     },
     "user_tz": -480
    },
    "id": "q1V6J_dBVuDY",
    "outputId": "3128279f-e6ab-4758-d384-68d38a68b545"
   },
   "outputs": [
    {
     "name": "stdout",
     "output_type": "stream",
     "text": [
      "Found 400000 word vectors.\n"
     ]
    }
   ],
   "source": [
    "import numpy as np\n",
    "path_to_glove_file = \"glove.6B.100d.txt\"\n",
    "\n",
    "embeddings_index = {}\n",
    "with open(path_to_glove_file) as f:\n",
    "    for line in f:\n",
    "        word, coefs = line.split(maxsplit=1)\n",
    "        coefs = np.fromstring(coefs, \"f\", sep=\" \")\n",
    "        embeddings_index[word] = coefs\n",
    "\n",
    "print(f\"Found {len(embeddings_index)} word vectors.\")"
   ]
  },
  {
   "cell_type": "markdown",
   "metadata": {
    "id": "8DHMmefLVuDa"
   },
   "source": [
    "**Preparing the GloVe word-embeddings matrix**"
   ]
  },
  {
   "cell_type": "code",
   "execution_count": 11,
   "metadata": {
    "executionInfo": {
     "elapsed": 5,
     "status": "ok",
     "timestamp": 1670348639091,
     "user": {
      "displayName": "余若慈",
      "userId": "15335659795739000199"
     },
     "user_tz": -480
    },
    "id": "fQvzrZsoVuDc"
   },
   "outputs": [],
   "source": [
    "embedding_dim = 100\n",
    "\n",
    "vocabulary = text_vectorization.get_vocabulary()\n",
    "word_index = dict(zip(vocabulary, range(len(vocabulary))))\n",
    "\n",
    "embedding_matrix = np.zeros((max_tokens, embedding_dim))\n",
    "for word, i in word_index.items():\n",
    "    if i < max_tokens:\n",
    "        embedding_vector = embeddings_index.get(word)\n",
    "    if embedding_vector is not None:\n",
    "        embedding_matrix[i] = embedding_vector"
   ]
  },
  {
   "cell_type": "code",
   "execution_count": 12,
   "metadata": {
    "executionInfo": {
     "elapsed": 4,
     "status": "ok",
     "timestamp": 1670348639091,
     "user": {
      "displayName": "余若慈",
      "userId": "15335659795739000199"
     },
     "user_tz": -480
    },
    "id": "Ifc15Xu4VuDc"
   },
   "outputs": [],
   "source": [
    "embedding_layer = layers.Embedding(\n",
    "    max_tokens,\n",
    "    embedding_dim,\n",
    "    embeddings_initializer=keras.initializers.Constant(embedding_matrix),\n",
    "    trainable=False,\n",
    "    mask_zero=True,\n",
    ")"
   ]
  },
  {
   "cell_type": "markdown",
   "metadata": {
    "id": "mVtuZaUUVuDf"
   },
   "source": [
    "**Model that uses a pretrained Embedding layer**"
   ]
  },
  {
   "cell_type": "code",
   "execution_count": 13,
   "metadata": {
    "colab": {
     "base_uri": "https://localhost:8080/"
    },
    "executionInfo": {
     "elapsed": 433563,
     "status": "ok",
     "timestamp": 1670349072650,
     "user": {
      "displayName": "余若慈",
      "userId": "15335659795739000199"
     },
     "user_tz": -480
    },
    "id": "Uuny1KnNVuDh",
    "outputId": "96736ec3-2494-4053-c25a-56c5613bfdee"
   },
   "outputs": [
    {
     "name": "stdout",
     "output_type": "stream",
     "text": [
      "Model: \"model_3\"\n",
      "_________________________________________________________________\n",
      " Layer (type)                Output Shape              Param #   \n",
      "=================================================================\n",
      " input_4 (InputLayer)        [(None, None)]            0         \n",
      "                                                                 \n",
      " embedding_3 (Embedding)     (None, None, 100)         2000000   \n",
      "                                                                 \n",
      " bidirectional_3 (Bidirectio  (None, 64)               34048     \n",
      " nal)                                                            \n",
      "                                                                 \n",
      " dropout_3 (Dropout)         (None, 64)                0         \n",
      "                                                                 \n",
      " dense_3 (Dense)             (None, 1)                 65        \n",
      "                                                                 \n",
      "=================================================================\n",
      "Total params: 2,034,113\n",
      "Trainable params: 34,113\n",
      "Non-trainable params: 2,000,000\n",
      "_________________________________________________________________\n",
      "Epoch 1/10\n",
      "625/625 [==============================] - 44s 59ms/step - loss: 0.5694 - accuracy: 0.7053 - val_loss: 0.4688 - val_accuracy: 0.7770\n",
      "Epoch 2/10\n",
      "625/625 [==============================] - 34s 54ms/step - loss: 0.4529 - accuracy: 0.7918 - val_loss: 0.4151 - val_accuracy: 0.8160\n",
      "Epoch 3/10\n",
      "625/625 [==============================] - 34s 54ms/step - loss: 0.4053 - accuracy: 0.8220 - val_loss: 0.3558 - val_accuracy: 0.8450\n",
      "Epoch 4/10\n",
      "625/625 [==============================] - 34s 54ms/step - loss: 0.3730 - accuracy: 0.8385 - val_loss: 0.3363 - val_accuracy: 0.8556\n",
      "Epoch 5/10\n",
      "625/625 [==============================] - 34s 54ms/step - loss: 0.3481 - accuracy: 0.8516 - val_loss: 0.3265 - val_accuracy: 0.8606\n",
      "Epoch 6/10\n",
      "625/625 [==============================] - 34s 54ms/step - loss: 0.3246 - accuracy: 0.8620 - val_loss: 0.3131 - val_accuracy: 0.8750\n",
      "Epoch 7/10\n",
      "625/625 [==============================] - 34s 55ms/step - loss: 0.3087 - accuracy: 0.8750 - val_loss: 0.3037 - val_accuracy: 0.8758\n",
      "Epoch 8/10\n",
      "625/625 [==============================] - 34s 54ms/step - loss: 0.2901 - accuracy: 0.8816 - val_loss: 0.2945 - val_accuracy: 0.8804\n",
      "Epoch 9/10\n",
      "625/625 [==============================] - 34s 54ms/step - loss: 0.2746 - accuracy: 0.8862 - val_loss: 0.2912 - val_accuracy: 0.8814\n",
      "Epoch 10/10\n",
      "625/625 [==============================] - 34s 54ms/step - loss: 0.2628 - accuracy: 0.8935 - val_loss: 0.2890 - val_accuracy: 0.8812\n",
      "782/782 [==============================] - 21s 24ms/step - loss: 0.2854 - accuracy: 0.8796\n",
      "Test acc: 0.880\n"
     ]
    }
   ],
   "source": [
    "inputs = keras.Input(shape=(None,), dtype=\"int64\")\n",
    "embedded = embedding_layer(inputs)\n",
    "x = layers.Bidirectional(layers.LSTM(32))(embedded)\n",
    "x = layers.Dropout(0.5)(x)\n",
    "outputs = layers.Dense(1, activation=\"sigmoid\")(x)\n",
    "model = keras.Model(inputs, outputs)\n",
    "model.compile(optimizer=\"rmsprop\",\n",
    "              loss=\"binary_crossentropy\",\n",
    "              metrics=[\"accuracy\"])\n",
    "model.summary()\n",
    "\n",
    "callbacks = [\n",
    "    keras.callbacks.ModelCheckpoint(\"glove_embeddings_sequence_model.keras\",\n",
    "                                    save_best_only=True)\n",
    "]\n",
    "model.fit(int_train_ds, validation_data=int_val_ds, epochs=10, callbacks=callbacks)\n",
    "model = keras.models.load_model(\"glove_embeddings_sequence_model.keras\")\n",
    "print(f\"Test acc: {model.evaluate(int_test_ds)[1]:.3f}\")"
   ]
  }
 ],
 "metadata": {
  "accelerator": "GPU",
  "colab": {
   "provenance": []
  },
  "gpuClass": "standard",
  "kernelspec": {
   "display_name": "Python 3 (ipykernel)",
   "language": "python",
   "name": "python3"
  },
  "language_info": {
   "codemirror_mode": {
    "name": "ipython",
    "version": 3
   },
   "file_extension": ".py",
   "mimetype": "text/x-python",
   "name": "python",
   "nbconvert_exporter": "python",
   "pygments_lexer": "ipython3",
   "version": "3.8.15"
  }
 },
 "nbformat": 4,
 "nbformat_minor": 1
}
