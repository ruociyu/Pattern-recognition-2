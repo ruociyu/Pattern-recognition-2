{
 "cells": [
  {
   "cell_type": "markdown",
   "metadata": {
    "id": "OhILW6cOkYTC"
   },
   "source": [
    "## The Transformer architecture"
   ]
  },
  {
   "cell_type": "markdown",
   "metadata": {
    "id": "qG-Jt8-PkYTF"
   },
   "source": [
    "### Understanding self-attention"
   ]
  },
  {
   "cell_type": "markdown",
   "metadata": {
    "id": "7ZS0yDo6kYTG"
   },
   "source": [
    "#### Generalized self-attention: the query-key-value model"
   ]
  },
  {
   "cell_type": "markdown",
   "metadata": {
    "id": "xgMYIhVckYTK"
   },
   "source": [
    "### Multi-head attention"
   ]
  },
  {
   "cell_type": "markdown",
   "metadata": {
    "id": "ekJlYXXjkYTL"
   },
   "source": [
    "### The Transformer encoder"
   ]
  },
  {
   "cell_type": "markdown",
   "metadata": {
    "id": "bnWH6yk_kYTN"
   },
   "source": [
    "**Getting the data**"
   ]
  },
  {
   "cell_type": "code",
   "execution_count": 1,
   "metadata": {
    "colab": {
     "base_uri": "https://localhost:8080/"
    },
    "executionInfo": {
     "elapsed": 20888,
     "status": "ok",
     "timestamp": 1670349304380,
     "user": {
      "displayName": "余若慈",
      "userId": "15335659795739000199"
     },
     "user_tz": -480
    },
    "id": "Ryl9MtKTkYTP",
    "outputId": "51ae68ef-61eb-4efc-dd55-b5969995ab35"
   },
   "outputs": [
    {
     "name": "stdout",
     "output_type": "stream",
     "text": [
      "  % Total    % Received % Xferd  Average Speed   Time    Time     Time  Current\n",
      "                                 Dload  Upload   Total   Spent    Left  Speed\n",
      "100 80.2M  100 80.2M    0     0  11.5M      0  0:00:06  0:00:06 --:--:-- 18.7M\n"
     ]
    }
   ],
   "source": [
    "!curl -O https://ai.stanford.edu/~amaas/data/sentiment/aclImdb_v1.tar.gz\n",
    "!tar -xf aclImdb_v1.tar.gz\n",
    "!rm -r aclImdb/train/unsup"
   ]
  },
  {
   "cell_type": "markdown",
   "metadata": {
    "id": "HPr3nGgqkYTt"
   },
   "source": [
    "**Preparing the data**"
   ]
  },
  {
   "cell_type": "code",
   "execution_count": 2,
   "metadata": {
    "colab": {
     "base_uri": "https://localhost:8080/"
    },
    "executionInfo": {
     "elapsed": 8980,
     "status": "ok",
     "timestamp": 1670349313354,
     "user": {
      "displayName": "余若慈",
      "userId": "15335659795739000199"
     },
     "user_tz": -480
    },
    "id": "sQBUR90rkYT_",
    "outputId": "5c798d79-b4a8-4b13-b513-a990362a1e69"
   },
   "outputs": [
    {
     "name": "stdout",
     "output_type": "stream",
     "text": [
      "Found 20000 files belonging to 2 classes.\n",
      "Found 5000 files belonging to 2 classes.\n",
      "Found 25000 files belonging to 2 classes.\n"
     ]
    }
   ],
   "source": [
    "import os, pathlib, shutil, random\n",
    "from tensorflow import keras\n",
    "batch_size = 32\n",
    "base_dir = pathlib.Path(\"aclImdb\")\n",
    "val_dir = base_dir / \"val\"\n",
    "train_dir = base_dir / \"train\"\n",
    "for category in (\"neg\", \"pos\"):\n",
    "    os.makedirs(val_dir / category)\n",
    "    files = os.listdir(train_dir / category)\n",
    "    random.Random(1337).shuffle(files)\n",
    "    num_val_samples = int(0.2 * len(files))\n",
    "    val_files = files[-num_val_samples:]\n",
    "    for fname in val_files:\n",
    "        shutil.move(train_dir / category / fname,\n",
    "                    val_dir / category / fname)\n",
    "\n",
    "train_ds = keras.utils.text_dataset_from_directory(\n",
    "    \"aclImdb/train\", batch_size=batch_size\n",
    ")\n",
    "val_ds = keras.utils.text_dataset_from_directory(\n",
    "    \"aclImdb/val\", batch_size=batch_size\n",
    ")\n",
    "test_ds = keras.utils.text_dataset_from_directory(\n",
    "    \"aclImdb/test\", batch_size=batch_size\n",
    ")\n",
    "text_only_train_ds = train_ds.map(lambda x, y: x)"
   ]
  },
  {
   "cell_type": "markdown",
   "metadata": {
    "id": "d1SJYqgtkYUO"
   },
   "source": [
    "**Vectorizing the data**"
   ]
  },
  {
   "cell_type": "code",
   "execution_count": 3,
   "metadata": {
    "executionInfo": {
     "elapsed": 11101,
     "status": "ok",
     "timestamp": 1670349324426,
     "user": {
      "displayName": "余若慈",
      "userId": "15335659795739000199"
     },
     "user_tz": -480
    },
    "id": "Cv6JWc7lkYUQ"
   },
   "outputs": [],
   "source": [
    "from tensorflow.keras import layers\n",
    "\n",
    "max_length = 600\n",
    "max_tokens = 20000\n",
    "text_vectorization = layers.TextVectorization(\n",
    "    max_tokens=max_tokens,\n",
    "    output_mode=\"int\",\n",
    "    output_sequence_length=max_length,\n",
    ")\n",
    "text_vectorization.adapt(text_only_train_ds)\n",
    "\n",
    "int_train_ds = train_ds.map(\n",
    "    lambda x, y: (text_vectorization(x), y),\n",
    "    num_parallel_calls=4)\n",
    "int_val_ds = val_ds.map(\n",
    "    lambda x, y: (text_vectorization(x), y),\n",
    "    num_parallel_calls=4)\n",
    "int_test_ds = test_ds.map(\n",
    "    lambda x, y: (text_vectorization(x), y),\n",
    "    num_parallel_calls=4)"
   ]
  },
  {
   "cell_type": "markdown",
   "metadata": {
    "id": "F3xvLKs8kYUS"
   },
   "source": [
    "**Transformer encoder implemented as a subclassed `Layer`**"
   ]
  },
  {
   "cell_type": "code",
   "execution_count": 4,
   "metadata": {
    "executionInfo": {
     "elapsed": 131,
     "status": "ok",
     "timestamp": 1670349324437,
     "user": {
      "displayName": "余若慈",
      "userId": "15335659795739000199"
     },
     "user_tz": -480
    },
    "id": "fggyNha6kYUU"
   },
   "outputs": [],
   "source": [
    "import tensorflow as tf\n",
    "from tensorflow import keras\n",
    "from tensorflow.keras import layers\n",
    "\n",
    "class TransformerEncoder(layers.Layer):\n",
    "    def __init__(self, embed_dim, dense_dim, num_heads, **kwargs):\n",
    "        super().__init__(**kwargs)\n",
    "        self.embed_dim = embed_dim\n",
    "        self.dense_dim = dense_dim\n",
    "        self.num_heads = num_heads\n",
    "        self.attention = layers.MultiHeadAttention(\n",
    "            num_heads=num_heads, key_dim=embed_dim)\n",
    "        self.dense_proj = keras.Sequential(\n",
    "            [layers.Dense(dense_dim, activation=\"relu\"),\n",
    "             layers.Dense(embed_dim),]\n",
    "        )\n",
    "        self.layernorm_1 = layers.LayerNormalization()\n",
    "        self.layernorm_2 = layers.LayerNormalization()\n",
    "\n",
    "    def call(self, inputs, mask=None):\n",
    "        if mask is not None:\n",
    "            mask = mask[:, tf.newaxis, :]\n",
    "        attention_output = self.attention(\n",
    "            inputs, inputs, attention_mask=mask)\n",
    "        proj_input = self.layernorm_1(inputs + attention_output)\n",
    "        proj_output = self.dense_proj(proj_input)\n",
    "        return self.layernorm_2(proj_input + proj_output)\n",
    "\n",
    "    def get_config(self):\n",
    "        config = super().get_config()\n",
    "        config.update({\n",
    "            \"embed_dim\": self.embed_dim,\n",
    "            \"num_heads\": self.num_heads,\n",
    "            \"dense_dim\": self.dense_dim,\n",
    "        })\n",
    "        return config"
   ]
  },
  {
   "cell_type": "markdown",
   "metadata": {
    "id": "kSSWI0PSkYUt"
   },
   "source": [
    "**Using the Transformer encoder for text classification**"
   ]
  },
  {
   "cell_type": "code",
   "execution_count": 5,
   "metadata": {
    "colab": {
     "base_uri": "https://localhost:8080/"
    },
    "executionInfo": {
     "elapsed": 148,
     "status": "ok",
     "timestamp": 1670349324459,
     "user": {
      "displayName": "余若慈",
      "userId": "15335659795739000199"
     },
     "user_tz": -480
    },
    "id": "N_icfqPskYUu",
    "outputId": "379f2022-1ead-43e3-9c74-4b4952ab8986"
   },
   "outputs": [
    {
     "name": "stdout",
     "output_type": "stream",
     "text": [
      "Model: \"model\"\n",
      "_________________________________________________________________\n",
      " Layer (type)                Output Shape              Param #   \n",
      "=================================================================\n",
      " input_1 (InputLayer)        [(None, None)]            0         \n",
      "                                                                 \n",
      " embedding (Embedding)       (None, None, 256)         5120000   \n",
      "                                                                 \n",
      " transformer_encoder (Transf  (None, None, 256)        543776    \n",
      " ormerEncoder)                                                   \n",
      "                                                                 \n",
      " global_max_pooling1d (Globa  (None, 256)              0         \n",
      " lMaxPooling1D)                                                  \n",
      "                                                                 \n",
      " dropout (Dropout)           (None, 256)               0         \n",
      "                                                                 \n",
      " dense_2 (Dense)             (None, 1)                 257       \n",
      "                                                                 \n",
      "=================================================================\n",
      "Total params: 5,664,033\n",
      "Trainable params: 5,664,033\n",
      "Non-trainable params: 0\n",
      "_________________________________________________________________\n"
     ]
    }
   ],
   "source": [
    "vocab_size = 20000\n",
    "embed_dim = 256\n",
    "num_heads = 2\n",
    "dense_dim = 32\n",
    "\n",
    "inputs = keras.Input(shape=(None,), dtype=\"int64\")\n",
    "x = layers.Embedding(vocab_size, embed_dim)(inputs)\n",
    "x = TransformerEncoder(embed_dim, dense_dim, num_heads)(x)\n",
    "x = layers.GlobalMaxPooling1D()(x)\n",
    "x = layers.Dropout(0.5)(x)\n",
    "outputs = layers.Dense(1, activation=\"sigmoid\")(x)\n",
    "model = keras.Model(inputs, outputs)\n",
    "model.compile(optimizer=\"rmsprop\",\n",
    "              loss=\"binary_crossentropy\",\n",
    "              metrics=[\"accuracy\"])\n",
    "model.summary()"
   ]
  },
  {
   "cell_type": "markdown",
   "metadata": {
    "id": "Ldb2pXsAkYUw"
   },
   "source": [
    "**Training and evaluating the Transformer encoder based model**"
   ]
  },
  {
   "cell_type": "code",
   "execution_count": 6,
   "metadata": {
    "colab": {
     "base_uri": "https://localhost:8080/"
    },
    "executionInfo": {
     "elapsed": 1295531,
     "status": "ok",
     "timestamp": 1670350619864,
     "user": {
      "displayName": "余若慈",
      "userId": "15335659795739000199"
     },
     "user_tz": -480
    },
    "id": "hAvXGxQBkYUy",
    "outputId": "8e963aba-4d00-4291-f94e-d674c94957ac"
   },
   "outputs": [
    {
     "name": "stdout",
     "output_type": "stream",
     "text": [
      "Epoch 1/20\n",
      "625/625 [==============================] - 45s 64ms/step - loss: 0.4759 - accuracy: 0.7765 - val_loss: 0.3289 - val_accuracy: 0.8542\n",
      "Epoch 2/20\n",
      "625/625 [==============================] - 41s 65ms/step - loss: 0.3142 - accuracy: 0.8648 - val_loss: 0.3656 - val_accuracy: 0.8446\n",
      "Epoch 3/20\n",
      "625/625 [==============================] - 40s 64ms/step - loss: 0.2404 - accuracy: 0.9035 - val_loss: 0.3081 - val_accuracy: 0.8820\n",
      "Epoch 4/20\n",
      "625/625 [==============================] - 40s 64ms/step - loss: 0.1859 - accuracy: 0.9270 - val_loss: 0.3443 - val_accuracy: 0.8814\n",
      "Epoch 5/20\n",
      "625/625 [==============================] - 41s 65ms/step - loss: 0.1531 - accuracy: 0.9410 - val_loss: 0.4162 - val_accuracy: 0.8706\n",
      "Epoch 6/20\n",
      "625/625 [==============================] - 43s 69ms/step - loss: 0.1301 - accuracy: 0.9506 - val_loss: 0.4941 - val_accuracy: 0.8680\n",
      "Epoch 7/20\n",
      "625/625 [==============================] - 41s 66ms/step - loss: 0.1118 - accuracy: 0.9585 - val_loss: 0.4305 - val_accuracy: 0.8758\n",
      "Epoch 8/20\n",
      "625/625 [==============================] - 41s 66ms/step - loss: 0.0959 - accuracy: 0.9650 - val_loss: 0.6085 - val_accuracy: 0.8644\n",
      "Epoch 9/20\n",
      "625/625 [==============================] - 41s 66ms/step - loss: 0.0829 - accuracy: 0.9711 - val_loss: 0.6420 - val_accuracy: 0.8706\n",
      "Epoch 10/20\n",
      "625/625 [==============================] - 41s 66ms/step - loss: 0.0723 - accuracy: 0.9744 - val_loss: 0.4855 - val_accuracy: 0.8596\n",
      "Epoch 11/20\n",
      "625/625 [==============================] - 41s 66ms/step - loss: 0.0618 - accuracy: 0.9791 - val_loss: 0.8267 - val_accuracy: 0.8482\n",
      "Epoch 12/20\n",
      "625/625 [==============================] - 43s 68ms/step - loss: 0.0518 - accuracy: 0.9829 - val_loss: 0.5978 - val_accuracy: 0.8676\n",
      "Epoch 13/20\n",
      "625/625 [==============================] - 41s 66ms/step - loss: 0.0430 - accuracy: 0.9858 - val_loss: 0.6751 - val_accuracy: 0.8682\n",
      "Epoch 14/20\n",
      "625/625 [==============================] - 41s 66ms/step - loss: 0.0362 - accuracy: 0.9892 - val_loss: 0.7972 - val_accuracy: 0.8666\n",
      "Epoch 15/20\n",
      "625/625 [==============================] - 42s 66ms/step - loss: 0.0300 - accuracy: 0.9913 - val_loss: 0.6893 - val_accuracy: 0.8622\n",
      "Epoch 16/20\n",
      "625/625 [==============================] - 41s 66ms/step - loss: 0.0243 - accuracy: 0.9926 - val_loss: 1.0206 - val_accuracy: 0.8532\n",
      "Epoch 17/20\n",
      "625/625 [==============================] - 41s 66ms/step - loss: 0.0192 - accuracy: 0.9936 - val_loss: 0.8956 - val_accuracy: 0.8560\n",
      "Epoch 18/20\n",
      "625/625 [==============================] - 42s 67ms/step - loss: 0.0180 - accuracy: 0.9942 - val_loss: 1.0937 - val_accuracy: 0.8348\n",
      "Epoch 19/20\n",
      "625/625 [==============================] - 41s 66ms/step - loss: 0.0180 - accuracy: 0.9946 - val_loss: 0.9328 - val_accuracy: 0.8690\n",
      "Epoch 20/20\n",
      "625/625 [==============================] - 43s 69ms/step - loss: 0.0160 - accuracy: 0.9955 - val_loss: 1.0018 - val_accuracy: 0.8562\n",
      "782/782 [==============================] - 18s 23ms/step - loss: 0.3219 - accuracy: 0.8782\n",
      "Test acc: 0.878\n"
     ]
    }
   ],
   "source": [
    "callbacks = [\n",
    "    keras.callbacks.ModelCheckpoint(\"transformer_encoder.keras\",\n",
    "                                    save_best_only=True)\n",
    "]\n",
    "model.fit(int_train_ds, validation_data=int_val_ds, epochs=20, callbacks=callbacks)\n",
    "model = keras.models.load_model(\n",
    "    \"transformer_encoder.keras\",\n",
    "    custom_objects={\"TransformerEncoder\": TransformerEncoder})\n",
    "print(f\"Test acc: {model.evaluate(int_test_ds)[1]:.3f}\")"
   ]
  },
  {
   "cell_type": "markdown",
   "metadata": {
    "id": "-EOo2_ONkYU1"
   },
   "source": [
    "#### Using positional encoding to re-inject order information"
   ]
  },
  {
   "cell_type": "markdown",
   "metadata": {
    "id": "DInijvw6kYU3"
   },
   "source": [
    "**Implementing positional embedding as a subclassed layer**"
   ]
  },
  {
   "cell_type": "code",
   "execution_count": 7,
   "metadata": {
    "executionInfo": {
     "elapsed": 75,
     "status": "ok",
     "timestamp": 1670350619871,
     "user": {
      "displayName": "余若慈",
      "userId": "15335659795739000199"
     },
     "user_tz": -480
    },
    "id": "l61UE-ZmkYU4"
   },
   "outputs": [],
   "source": [
    "class PositionalEmbedding(layers.Layer):\n",
    "    def __init__(self, sequence_length, input_dim, output_dim, **kwargs):\n",
    "        super().__init__(**kwargs)\n",
    "        self.token_embeddings = layers.Embedding(\n",
    "            input_dim=input_dim, output_dim=output_dim)\n",
    "        self.position_embeddings = layers.Embedding(\n",
    "            input_dim=sequence_length, output_dim=output_dim)\n",
    "        self.sequence_length = sequence_length\n",
    "        self.input_dim = input_dim\n",
    "        self.output_dim = output_dim\n",
    "\n",
    "    def call(self, inputs):\n",
    "        length = tf.shape(inputs)[-1]\n",
    "        positions = tf.range(start=0, limit=length, delta=1)\n",
    "        embedded_tokens = self.token_embeddings(inputs)\n",
    "        embedded_positions = self.position_embeddings(positions)\n",
    "        return embedded_tokens + embedded_positions\n",
    "\n",
    "    def compute_mask(self, inputs, mask=None):\n",
    "        return tf.math.not_equal(inputs, 0)\n",
    "\n",
    "    def get_config(self):\n",
    "        config = super().get_config()\n",
    "        config.update({\n",
    "            \"output_dim\": self.output_dim,\n",
    "            \"sequence_length\": self.sequence_length,\n",
    "            \"input_dim\": self.input_dim,\n",
    "        })\n",
    "        return config"
   ]
  },
  {
   "cell_type": "markdown",
   "metadata": {
    "id": "RXT-LHRGkYU5"
   },
   "source": [
    "#### Putting it all together: A text-classification Transformer"
   ]
  },
  {
   "cell_type": "markdown",
   "metadata": {
    "id": "Tx75KJtukYU6"
   },
   "source": [
    "**Combining the Transformer encoder with positional embedding**"
   ]
  },
  {
   "cell_type": "code",
   "execution_count": 8,
   "metadata": {
    "colab": {
     "base_uri": "https://localhost:8080/"
    },
    "executionInfo": {
     "elapsed": 1429465,
     "status": "ok",
     "timestamp": 1670352049266,
     "user": {
      "displayName": "余若慈",
      "userId": "15335659795739000199"
     },
     "user_tz": -480
    },
    "id": "NOS7WYiUkYU-",
    "outputId": "61fd0fc9-3e81-4943-c1f2-25d6e92d18fd"
   },
   "outputs": [
    {
     "name": "stdout",
     "output_type": "stream",
     "text": [
      "Model: \"model_1\"\n",
      "_________________________________________________________________\n",
      " Layer (type)                Output Shape              Param #   \n",
      "=================================================================\n",
      " input_2 (InputLayer)        [(None, None)]            0         \n",
      "                                                                 \n",
      " positional_embedding (Posit  (None, None, 256)        5273600   \n",
      " ionalEmbedding)                                                 \n",
      "                                                                 \n",
      " transformer_encoder_1 (Tran  (None, None, 256)        543776    \n",
      " sformerEncoder)                                                 \n",
      "                                                                 \n",
      " global_max_pooling1d_1 (Glo  (None, 256)              0         \n",
      " balMaxPooling1D)                                                \n",
      "                                                                 \n",
      " dropout_1 (Dropout)         (None, 256)               0         \n",
      "                                                                 \n",
      " dense_7 (Dense)             (None, 1)                 257       \n",
      "                                                                 \n",
      "=================================================================\n",
      "Total params: 5,817,633\n",
      "Trainable params: 5,817,633\n",
      "Non-trainable params: 0\n",
      "_________________________________________________________________\n",
      "Epoch 1/20\n",
      "625/625 [==============================] - 44s 68ms/step - loss: 0.4823 - accuracy: 0.7823 - val_loss: 0.3621 - val_accuracy: 0.8440\n",
      "Epoch 2/20\n",
      "625/625 [==============================] - 42s 68ms/step - loss: 0.2326 - accuracy: 0.9091 - val_loss: 0.2867 - val_accuracy: 0.8872\n",
      "Epoch 3/20\n",
      "625/625 [==============================] - 42s 67ms/step - loss: 0.1776 - accuracy: 0.9336 - val_loss: 0.3996 - val_accuracy: 0.8712\n",
      "Epoch 4/20\n",
      "625/625 [==============================] - 42s 67ms/step - loss: 0.1453 - accuracy: 0.9473 - val_loss: 0.4090 - val_accuracy: 0.8718\n",
      "Epoch 5/20\n",
      "625/625 [==============================] - 42s 67ms/step - loss: 0.1271 - accuracy: 0.9549 - val_loss: 0.4314 - val_accuracy: 0.8770\n",
      "Epoch 6/20\n",
      "625/625 [==============================] - 42s 67ms/step - loss: 0.1093 - accuracy: 0.9608 - val_loss: 0.4120 - val_accuracy: 0.8810\n",
      "Epoch 7/20\n",
      "625/625 [==============================] - 42s 68ms/step - loss: 0.0973 - accuracy: 0.9657 - val_loss: 0.3920 - val_accuracy: 0.8780\n",
      "Epoch 8/20\n",
      "625/625 [==============================] - 42s 68ms/step - loss: 0.0888 - accuracy: 0.9693 - val_loss: 0.4228 - val_accuracy: 0.8742\n",
      "Epoch 9/20\n",
      "625/625 [==============================] - 42s 67ms/step - loss: 0.0809 - accuracy: 0.9718 - val_loss: 0.5119 - val_accuracy: 0.8748\n",
      "Epoch 10/20\n",
      "625/625 [==============================] - 43s 69ms/step - loss: 0.0694 - accuracy: 0.9766 - val_loss: 0.5732 - val_accuracy: 0.8658\n",
      "Epoch 11/20\n",
      "625/625 [==============================] - 42s 67ms/step - loss: 0.0650 - accuracy: 0.9779 - val_loss: 0.5546 - val_accuracy: 0.8724\n",
      "Epoch 12/20\n",
      "625/625 [==============================] - 42s 68ms/step - loss: 0.0573 - accuracy: 0.9797 - val_loss: 0.7100 - val_accuracy: 0.8566\n",
      "Epoch 13/20\n",
      "625/625 [==============================] - 42s 67ms/step - loss: 0.0504 - accuracy: 0.9822 - val_loss: 0.6697 - val_accuracy: 0.8708\n",
      "Epoch 14/20\n",
      "625/625 [==============================] - 42s 67ms/step - loss: 0.0472 - accuracy: 0.9838 - val_loss: 0.6714 - val_accuracy: 0.8670\n",
      "Epoch 15/20\n",
      "625/625 [==============================] - 42s 68ms/step - loss: 0.0424 - accuracy: 0.9850 - val_loss: 0.5102 - val_accuracy: 0.8664\n",
      "Epoch 16/20\n",
      "625/625 [==============================] - 42s 67ms/step - loss: 0.0362 - accuracy: 0.9880 - val_loss: 0.7617 - val_accuracy: 0.8620\n",
      "Epoch 17/20\n",
      "625/625 [==============================] - 42s 67ms/step - loss: 0.0322 - accuracy: 0.9888 - val_loss: 0.8050 - val_accuracy: 0.8670\n",
      "Epoch 18/20\n",
      "625/625 [==============================] - 42s 67ms/step - loss: 0.0345 - accuracy: 0.9877 - val_loss: 0.8442 - val_accuracy: 0.8664\n",
      "Epoch 19/20\n",
      "625/625 [==============================] - 42s 67ms/step - loss: 0.0275 - accuracy: 0.9906 - val_loss: 0.7913 - val_accuracy: 0.8674\n",
      "Epoch 20/20\n",
      "625/625 [==============================] - 42s 67ms/step - loss: 0.0251 - accuracy: 0.9916 - val_loss: 1.1104 - val_accuracy: 0.8416\n",
      "782/782 [==============================] - 26s 33ms/step - loss: 0.3055 - accuracy: 0.8766\n",
      "Test acc: 0.877\n"
     ]
    }
   ],
   "source": [
    "vocab_size = 20000\n",
    "sequence_length = 600\n",
    "embed_dim = 256\n",
    "num_heads = 2\n",
    "dense_dim = 32\n",
    "\n",
    "inputs = keras.Input(shape=(None,), dtype=\"int64\")\n",
    "x = PositionalEmbedding(sequence_length, vocab_size, embed_dim)(inputs)\n",
    "x = TransformerEncoder(embed_dim, dense_dim, num_heads)(x)\n",
    "x = layers.GlobalMaxPooling1D()(x)\n",
    "x = layers.Dropout(0.5)(x)\n",
    "outputs = layers.Dense(1, activation=\"sigmoid\")(x)\n",
    "model = keras.Model(inputs, outputs)\n",
    "model.compile(optimizer=\"rmsprop\",\n",
    "              loss=\"binary_crossentropy\",\n",
    "              metrics=[\"accuracy\"])\n",
    "model.summary()\n",
    "\n",
    "callbacks = [\n",
    "    keras.callbacks.ModelCheckpoint(\"full_transformer_encoder.keras\",\n",
    "                                    save_best_only=True)\n",
    "]\n",
    "model.fit(int_train_ds, validation_data=int_val_ds, epochs=20, callbacks=callbacks)\n",
    "model = keras.models.load_model(\n",
    "    \"full_transformer_encoder.keras\",\n",
    "    custom_objects={\"TransformerEncoder\": TransformerEncoder,\n",
    "                    \"PositionalEmbedding\": PositionalEmbedding})\n",
    "print(f\"Test acc: {model.evaluate(int_test_ds)[1]:.3f}\")"
   ]
  }
 ],
 "metadata": {
  "accelerator": "GPU",
  "colab": {
   "provenance": []
  },
  "gpuClass": "standard",
  "kernelspec": {
   "display_name": "Python 3 (ipykernel)",
   "language": "python",
   "name": "python3"
  },
  "language_info": {
   "codemirror_mode": {
    "name": "ipython",
    "version": 3
   },
   "file_extension": ".py",
   "mimetype": "text/x-python",
   "name": "python",
   "nbconvert_exporter": "python",
   "pygments_lexer": "ipython3",
   "version": "3.8.15"
  }
 },
 "nbformat": 4,
 "nbformat_minor": 1
}
